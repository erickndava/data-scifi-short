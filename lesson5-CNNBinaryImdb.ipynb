{
  "nbformat": 4,
  "nbformat_minor": 0,
  "metadata": {
    "kernelspec": {
      "display_name": "R",
      "language": "R",
      "name": "ir"
    },
    "language_info": {
      "codemirror_mode": "r",
      "file_extension": ".r",
      "mimetype": "text/x-r-source",
      "name": "R",
      "pygments_lexer": "r",
      "version": "3.3.1"
    },
    "colab": {
      "name": "UCT2019-CNNImdb_R.ipynb",
      "version": "0.3.2",
      "provenance": [],
      "collapsed_sections": []
    },
    "accelerator": "GPU"
  },
  "cells": [
    {
      "cell_type": "markdown",
      "metadata": {
        "id": "YS9FclBXnTZL",
        "colab_type": "text"
      },
      "source": [
        "***Dr. Emmanuel Dufourq*** www.emmanueldufourq.com\n",
        "\n",
        "***African Institute for Mathematical Sciences***\n",
        "\n",
        "***2019***\n",
        "\n",
        "\n",
        "Credits: The data imports and architecture were extracted from https://keras.rstudio.com/articles/examples/imdb_cnn.html\n",
        "\n",
        "***NOTE***\n",
        "\n",
        "Be sure to use hardware acceleration to use the GPU. Click on `Runtime`, change `runtime type`, and select `GPU` for the *hardware accelerator* option."
      ]
    },
    {
      "cell_type": "code",
      "metadata": {
        "id": "fdUuuxhRiXzg",
        "colab_type": "code",
        "outputId": "f0ea5686-4ef5-4191-f57a-271674dbebae",
        "colab": {
          "base_uri": "https://localhost:8080/",
          "height": 51
        }
      },
      "source": [
        "devtools::install_github(\"rstudio/keras\")"
      ],
      "execution_count": 1,
      "outputs": [
        {
          "output_type": "stream",
          "text": [
            "Skipping install of 'keras' from a github remote, the SHA1 (34dc89ed) has not changed since last install.\n",
            "  Use `force = TRUE` to force installation\n"
          ],
          "name": "stderr"
        }
      ]
    },
    {
      "cell_type": "markdown",
      "metadata": {
        "id": "fQteA-lKkVo-",
        "colab_type": "text"
      },
      "source": [
        "## Import the Keras library"
      ]
    },
    {
      "cell_type": "code",
      "metadata": {
        "id": "_iMaChtciX8e",
        "colab_type": "code",
        "colab": {}
      },
      "source": [
        "library(keras)\n",
        "library(stringr)"
      ],
      "execution_count": 0,
      "outputs": []
    },
    {
      "cell_type": "markdown",
      "metadata": {
        "id": "XP5Uf7XsAQ3e",
        "colab_type": "text"
      },
      "source": [
        "## Load the IMDB dataset\n",
        "\n",
        "Here we load the IMDB dataset and specify that we want the top 10,000 most frequent words. Which which occur less frequently than the top 10,000 will be discarded. \n",
        "\n",
        "In practice we can also use other techniques such as stop-word removal and tf-idf to get rid of certain \"rare\" words which don't add much value to the classification process.\n",
        "\n",
        "_***Loading this data set can take a minute or two***_"
      ]
    },
    {
      "cell_type": "code",
      "metadata": {
        "id": "bQ1G2bdF2xCU",
        "colab_type": "code",
        "colab": {}
      },
      "source": [
        "imdb <- dataset_imdb(num_words = 10000)"
      ],
      "execution_count": 0,
      "outputs": []
    },
    {
      "cell_type": "markdown",
      "metadata": {
        "id": "6hl92oS-85jL",
        "colab_type": "text"
      },
      "source": [
        "### Take a look at the first data point\n",
        "\n",
        "This data point has a length of 218"
      ]
    },
    {
      "cell_type": "code",
      "metadata": {
        "id": "m8ephJDb34UJ",
        "colab_type": "code",
        "outputId": "102e2e67-8c85-4fc9-f49f-17a44058a2b5",
        "colab": {
          "base_uri": "https://localhost:8080/",
          "height": 51
        }
      },
      "source": [
        "str(imdb$train$x[1])"
      ],
      "execution_count": 4,
      "outputs": [
        {
          "output_type": "stream",
          "text": [
            "List of 1\n",
            " $ : int [1:218] 1 14 22 16 43 530 973 1622 1385 65 ...\n"
          ],
          "name": "stdout"
        }
      ]
    },
    {
      "cell_type": "markdown",
      "metadata": {
        "id": "fl3x79VI86C2",
        "colab_type": "text"
      },
      "source": [
        "### Take a look at another data point\n",
        "\n",
        "This data point has a length of 130"
      ]
    },
    {
      "cell_type": "code",
      "metadata": {
        "id": "hSfpq88v7GXA",
        "colab_type": "code",
        "outputId": "9938fa49-6856-43cc-80b9-018c975de659",
        "colab": {
          "base_uri": "https://localhost:8080/",
          "height": 51
        }
      },
      "source": [
        "str(imdb$train$x[10])"
      ],
      "execution_count": 5,
      "outputs": [
        {
          "output_type": "stream",
          "text": [
            "List of 1\n",
            " $ : int [1:130] 1 14 20 47 111 439 3445 19 12 15 ...\n"
          ],
          "name": "stdout"
        }
      ]
    },
    {
      "cell_type": "markdown",
      "metadata": {
        "id": "tw6AgPi19Icu",
        "colab_type": "text"
      },
      "source": [
        "## Padding\n",
        "\n",
        "The neural network approach we will use requires that the input is of fixed size. So we cannot use the data in it's current form as each text extract (data point) is a different length. We can fix this by padding the sentences with zeros. Padding is added to the left. To pad we need to specify a maximum length. Each data point which had less words than the maximum length will be padded with zeros so that it reaches the correct length.\n",
        "\n",
        "In this case we choose the maximum data point length to be 400."
      ]
    },
    {
      "cell_type": "code",
      "metadata": {
        "id": "Q0Q3U4Pg7GaA",
        "colab_type": "code",
        "colab": {}
      },
      "source": [
        "x_train <- imdb$train$x %>% pad_sequences(maxlen = 400)\n",
        "x_test <- imdb$test$x %>% pad_sequences(maxlen = 400)"
      ],
      "execution_count": 0,
      "outputs": []
    },
    {
      "cell_type": "markdown",
      "metadata": {
        "id": "eO2AlmS-968t",
        "colab_type": "text"
      },
      "source": [
        "## Check the dimensions to verify that padding was performed"
      ]
    },
    {
      "cell_type": "code",
      "metadata": {
        "id": "gkcjoGzQ7Gdh",
        "colab_type": "code",
        "outputId": "3eacb4cf-8958-4d18-c935-73df416f3950",
        "colab": {
          "base_uri": "https://localhost:8080/",
          "height": 79
        }
      },
      "source": [
        "dim(x_train)"
      ],
      "execution_count": 7,
      "outputs": [
        {
          "output_type": "display_data",
          "data": {
            "text/plain": [
              "[1] 25000   400"
            ],
            "text/latex": "\\begin{enumerate*}\n\\item 25000\n\\item 400\n\\end{enumerate*}\n",
            "text/markdown": "1. 25000\n2. 400\n\n\n",
            "text/html": [
              "<ol class=list-inline>\n",
              "\t<li>25000</li>\n",
              "\t<li>400</li>\n",
              "</ol>\n"
            ]
          },
          "metadata": {
            "tags": []
          }
        }
      ]
    },
    {
      "cell_type": "code",
      "metadata": {
        "id": "azKLkgzV92V0",
        "colab_type": "code",
        "outputId": "8f5ab73a-647e-4dca-dcb1-91fca20fed8d",
        "colab": {
          "base_uri": "https://localhost:8080/",
          "height": 79
        }
      },
      "source": [
        "dim(x_test)"
      ],
      "execution_count": 8,
      "outputs": [
        {
          "output_type": "display_data",
          "data": {
            "text/plain": [
              "[1] 25000   400"
            ],
            "text/latex": "\\begin{enumerate*}\n\\item 25000\n\\item 400\n\\end{enumerate*}\n",
            "text/markdown": "1. 25000\n2. 400\n\n\n",
            "text/html": [
              "<ol class=list-inline>\n",
              "\t<li>25000</li>\n",
              "\t<li>400</li>\n",
              "</ol>\n"
            ]
          },
          "metadata": {
            "tags": []
          }
        }
      ]
    },
    {
      "cell_type": "markdown",
      "metadata": {
        "id": "GsANVAD4_ZA6",
        "colab_type": "text"
      },
      "source": [
        "## Compare\n",
        "\n",
        "Now compare the output above to this one below. This is the 10th data point. Notice the sequence 1, 14, 20 ,47 has been padded with zeros?"
      ]
    },
    {
      "cell_type": "code",
      "metadata": {
        "id": "xPmB4Ilv-170",
        "colab_type": "code",
        "outputId": "779eb759-773c-43c3-f41b-7423e431a8c3",
        "colab": {
          "base_uri": "https://localhost:8080/",
          "height": 1000
        }
      },
      "source": [
        "x_train[10,]"
      ],
      "execution_count": 9,
      "outputs": [
        {
          "output_type": "display_data",
          "data": {
            "text/plain": [
              "  [1]    0    0    0    0    0    0    0    0    0    0    0    0    0    0    0\n",
              " [16]    0    0    0    0    0    0    0    0    0    0    0    0    0    0    0\n",
              " [31]    0    0    0    0    0    0    0    0    0    0    0    0    0    0    0\n",
              " [46]    0    0    0    0    0    0    0    0    0    0    0    0    0    0    0\n",
              " [61]    0    0    0    0    0    0    0    0    0    0    0    0    0    0    0\n",
              " [76]    0    0    0    0    0    0    0    0    0    0    0    0    0    0    0\n",
              " [91]    0    0    0    0    0    0    0    0    0    0    0    0    0    0    0\n",
              "[106]    0    0    0    0    0    0    0    0    0    0    0    0    0    0    0\n",
              "[121]    0    0    0    0    0    0    0    0    0    0    0    0    0    0    0\n",
              "[136]    0    0    0    0    0    0    0    0    0    0    0    0    0    0    0\n",
              "[151]    0    0    0    0    0    0    0    0    0    0    0    0    0    0    0\n",
              "[166]    0    0    0    0    0    0    0    0    0    0    0    0    0    0    0\n",
              "[181]    0    0    0    0    0    0    0    0    0    0    0    0    0    0    0\n",
              "[196]    0    0    0    0    0    0    0    0    0    0    0    0    0    0    0\n",
              "[211]    0    0    0    0    0    0    0    0    0    0    0    0    0    0    0\n",
              "[226]    0    0    0    0    0    0    0    0    0    0    0    0    0    0    0\n",
              "[241]    0    0    0    0    0    0    0    0    0    0    0    0    0    0    0\n",
              "[256]    0    0    0    0    0    0    0    0    0    0    0    0    0    0    0\n",
              "[271]    1   14   20   47  111  439 3445   19   12   15  166   12  216  125   40\n",
              "[286]    6  364  352  707 1187   39  294   11   22  396   13   28    8  202   12\n",
              "[301] 1109   23   94    2  151  111  211  469    4   20   13  258  546 1104 7273\n",
              "[316]   12   16   38   78   33  211   15   12   16 2849   63   93   12    6  253\n",
              "[331]  106   10   10   48  335  267   18    6  364 1242 1179   20   19    6 1009\n",
              "[346]    7 1987  189    5    6 8419    7 2723    2   95 1719    6 6035    7 3912\n",
              "[361] 7144   49  369  120    5   28   49  253   10   10   13 1041   19   85  795\n",
              "[376]   15    4  481    9   55   78  807    9  375    8 1167    8  794   76    7\n",
              "[391]    4   58    5    4  816    9  243    7   43   50"
            ],
            "text/latex": "\\begin{enumerate*}\n\\item 0\n\\item 0\n\\item 0\n\\item 0\n\\item 0\n\\item 0\n\\item 0\n\\item 0\n\\item 0\n\\item 0\n\\item 0\n\\item 0\n\\item 0\n\\item 0\n\\item 0\n\\item 0\n\\item 0\n\\item 0\n\\item 0\n\\item 0\n\\item 0\n\\item 0\n\\item 0\n\\item 0\n\\item 0\n\\item 0\n\\item 0\n\\item 0\n\\item 0\n\\item 0\n\\item 0\n\\item 0\n\\item 0\n\\item 0\n\\item 0\n\\item 0\n\\item 0\n\\item 0\n\\item 0\n\\item 0\n\\item 0\n\\item 0\n\\item 0\n\\item 0\n\\item 0\n\\item 0\n\\item 0\n\\item 0\n\\item 0\n\\item 0\n\\item 0\n\\item 0\n\\item 0\n\\item 0\n\\item 0\n\\item 0\n\\item 0\n\\item 0\n\\item 0\n\\item 0\n\\item 0\n\\item 0\n\\item 0\n\\item 0\n\\item 0\n\\item 0\n\\item 0\n\\item 0\n\\item 0\n\\item 0\n\\item 0\n\\item 0\n\\item 0\n\\item 0\n\\item 0\n\\item 0\n\\item 0\n\\item 0\n\\item 0\n\\item 0\n\\item 0\n\\item 0\n\\item 0\n\\item 0\n\\item 0\n\\item 0\n\\item 0\n\\item 0\n\\item 0\n\\item 0\n\\item 0\n\\item 0\n\\item 0\n\\item 0\n\\item 0\n\\item 0\n\\item 0\n\\item 0\n\\item 0\n\\item 0\n\\item 0\n\\item 0\n\\item 0\n\\item 0\n\\item 0\n\\item 0\n\\item 0\n\\item 0\n\\item 0\n\\item 0\n\\item 0\n\\item 0\n\\item 0\n\\item 0\n\\item 0\n\\item 0\n\\item 0\n\\item 0\n\\item 0\n\\item 0\n\\item 0\n\\item 0\n\\item 0\n\\item 0\n\\item 0\n\\item 0\n\\item 0\n\\item 0\n\\item 0\n\\item 0\n\\item 0\n\\item 0\n\\item 0\n\\item 0\n\\item 0\n\\item 0\n\\item 0\n\\item 0\n\\item 0\n\\item 0\n\\item 0\n\\item 0\n\\item 0\n\\item 0\n\\item 0\n\\item 0\n\\item 0\n\\item 0\n\\item 0\n\\item 0\n\\item 0\n\\item 0\n\\item 0\n\\item 0\n\\item 0\n\\item 0\n\\item 0\n\\item 0\n\\item 0\n\\item 0\n\\item 0\n\\item 0\n\\item 0\n\\item 0\n\\item 0\n\\item 0\n\\item 0\n\\item 0\n\\item 0\n\\item 0\n\\item 0\n\\item 0\n\\item 0\n\\item 0\n\\item 0\n\\item 0\n\\item 0\n\\item 0\n\\item 0\n\\item 0\n\\item 0\n\\item 0\n\\item 0\n\\item 0\n\\item 0\n\\item 0\n\\item 0\n\\item 0\n\\item 0\n\\item 0\n\\item 0\n\\item 0\n\\item 0\n\\item 0\n\\item 0\n\\item 0\n\\item 0\n\\item 0\n\\item 0\n\\item 0\n\\item 0\n\\item 0\n\\item 0\n\\item 0\n\\item 0\n\\item 0\n\\item 0\n\\item 0\n\\item 0\n\\item 0\n\\item 0\n\\item 0\n\\item 0\n\\item 0\n\\item 0\n\\item 0\n\\item 0\n\\item 0\n\\item 0\n\\item 0\n\\item 0\n\\item 0\n\\item 0\n\\item 0\n\\item 0\n\\item 0\n\\item 0\n\\item 0\n\\item 0\n\\item 0\n\\item 0\n\\item 0\n\\item 0\n\\item 0\n\\item 0\n\\item 0\n\\item 0\n\\item 0\n\\item 0\n\\item 0\n\\item 0\n\\item 0\n\\item 0\n\\item 0\n\\item 0\n\\item 0\n\\item 0\n\\item 0\n\\item 0\n\\item 0\n\\item 0\n\\item 0\n\\item 0\n\\item 0\n\\item 0\n\\item 0\n\\item 0\n\\item 0\n\\item 0\n\\item 0\n\\item 0\n\\item 0\n\\item 0\n\\item 0\n\\item 0\n\\item 0\n\\item 0\n\\item 0\n\\item 0\n\\item 0\n\\item 1\n\\item 14\n\\item 20\n\\item 47\n\\item 111\n\\item 439\n\\item 3445\n\\item 19\n\\item 12\n\\item 15\n\\item 166\n\\item 12\n\\item 216\n\\item 125\n\\item 40\n\\item 6\n\\item 364\n\\item 352\n\\item 707\n\\item 1187\n\\item 39\n\\item 294\n\\item 11\n\\item 22\n\\item 396\n\\item 13\n\\item 28\n\\item 8\n\\item 202\n\\item 12\n\\item 1109\n\\item 23\n\\item 94\n\\item 2\n\\item 151\n\\item 111\n\\item 211\n\\item 469\n\\item 4\n\\item 20\n\\item 13\n\\item 258\n\\item 546\n\\item 1104\n\\item 7273\n\\item 12\n\\item 16\n\\item 38\n\\item 78\n\\item 33\n\\item 211\n\\item 15\n\\item 12\n\\item 16\n\\item 2849\n\\item 63\n\\item 93\n\\item 12\n\\item 6\n\\item 253\n\\item 106\n\\item 10\n\\item 10\n\\item 48\n\\item 335\n\\item 267\n\\item 18\n\\item 6\n\\item 364\n\\item 1242\n\\item 1179\n\\item 20\n\\item 19\n\\item 6\n\\item 1009\n\\item 7\n\\item 1987\n\\item 189\n\\item 5\n\\item 6\n\\item 8419\n\\item 7\n\\item 2723\n\\item 2\n\\item 95\n\\item 1719\n\\item 6\n\\item 6035\n\\item 7\n\\item 3912\n\\item 7144\n\\item 49\n\\item 369\n\\item 120\n\\item 5\n\\item 28\n\\item 49\n\\item 253\n\\item 10\n\\item 10\n\\item 13\n\\item 1041\n\\item 19\n\\item 85\n\\item 795\n\\item 15\n\\item 4\n\\item 481\n\\item 9\n\\item 55\n\\item 78\n\\item 807\n\\item 9\n\\item 375\n\\item 8\n\\item 1167\n\\item 8\n\\item 794\n\\item 76\n\\item 7\n\\item 4\n\\item 58\n\\item 5\n\\item 4\n\\item 816\n\\item 9\n\\item 243\n\\item 7\n\\item 43\n\\item 50\n\\end{enumerate*}\n",
            "text/markdown": "1. 0\n2. 0\n3. 0\n4. 0\n5. 0\n6. 0\n7. 0\n8. 0\n9. 0\n10. 0\n11. 0\n12. 0\n13. 0\n14. 0\n15. 0\n16. 0\n17. 0\n18. 0\n19. 0\n20. 0\n21. 0\n22. 0\n23. 0\n24. 0\n25. 0\n26. 0\n27. 0\n28. 0\n29. 0\n30. 0\n31. 0\n32. 0\n33. 0\n34. 0\n35. 0\n36. 0\n37. 0\n38. 0\n39. 0\n40. 0\n41. 0\n42. 0\n43. 0\n44. 0\n45. 0\n46. 0\n47. 0\n48. 0\n49. 0\n50. 0\n51. 0\n52. 0\n53. 0\n54. 0\n55. 0\n56. 0\n57. 0\n58. 0\n59. 0\n60. 0\n61. 0\n62. 0\n63. 0\n64. 0\n65. 0\n66. 0\n67. 0\n68. 0\n69. 0\n70. 0\n71. 0\n72. 0\n73. 0\n74. 0\n75. 0\n76. 0\n77. 0\n78. 0\n79. 0\n80. 0\n81. 0\n82. 0\n83. 0\n84. 0\n85. 0\n86. 0\n87. 0\n88. 0\n89. 0\n90. 0\n91. 0\n92. 0\n93. 0\n94. 0\n95. 0\n96. 0\n97. 0\n98. 0\n99. 0\n100. 0\n101. 0\n102. 0\n103. 0\n104. 0\n105. 0\n106. 0\n107. 0\n108. 0\n109. 0\n110. 0\n111. 0\n112. 0\n113. 0\n114. 0\n115. 0\n116. 0\n117. 0\n118. 0\n119. 0\n120. 0\n121. 0\n122. 0\n123. 0\n124. 0\n125. 0\n126. 0\n127. 0\n128. 0\n129. 0\n130. 0\n131. 0\n132. 0\n133. 0\n134. 0\n135. 0\n136. 0\n137. 0\n138. 0\n139. 0\n140. 0\n141. 0\n142. 0\n143. 0\n144. 0\n145. 0\n146. 0\n147. 0\n148. 0\n149. 0\n150. 0\n151. 0\n152. 0\n153. 0\n154. 0\n155. 0\n156. 0\n157. 0\n158. 0\n159. 0\n160. 0\n161. 0\n162. 0\n163. 0\n164. 0\n165. 0\n166. 0\n167. 0\n168. 0\n169. 0\n170. 0\n171. 0\n172. 0\n173. 0\n174. 0\n175. 0\n176. 0\n177. 0\n178. 0\n179. 0\n180. 0\n181. 0\n182. 0\n183. 0\n184. 0\n185. 0\n186. 0\n187. 0\n188. 0\n189. 0\n190. 0\n191. 0\n192. 0\n193. 0\n194. 0\n195. 0\n196. 0\n197. 0\n198. 0\n199. 0\n200. 0\n201. 0\n202. 0\n203. 0\n204. 0\n205. 0\n206. 0\n207. 0\n208. 0\n209. 0\n210. 0\n211. 0\n212. 0\n213. 0\n214. 0\n215. 0\n216. 0\n217. 0\n218. 0\n219. 0\n220. 0\n221. 0\n222. 0\n223. 0\n224. 0\n225. 0\n226. 0\n227. 0\n228. 0\n229. 0\n230. 0\n231. 0\n232. 0\n233. 0\n234. 0\n235. 0\n236. 0\n237. 0\n238. 0\n239. 0\n240. 0\n241. 0\n242. 0\n243. 0\n244. 0\n245. 0\n246. 0\n247. 0\n248. 0\n249. 0\n250. 0\n251. 0\n252. 0\n253. 0\n254. 0\n255. 0\n256. 0\n257. 0\n258. 0\n259. 0\n260. 0\n261. 0\n262. 0\n263. 0\n264. 0\n265. 0\n266. 0\n267. 0\n268. 0\n269. 0\n270. 0\n271. 1\n272. 14\n273. 20\n274. 47\n275. 111\n276. 439\n277. 3445\n278. 19\n279. 12\n280. 15\n281. 166\n282. 12\n283. 216\n284. 125\n285. 40\n286. 6\n287. 364\n288. 352\n289. 707\n290. 1187\n291. 39\n292. 294\n293. 11\n294. 22\n295. 396\n296. 13\n297. 28\n298. 8\n299. 202\n300. 12\n301. 1109\n302. 23\n303. 94\n304. 2\n305. 151\n306. 111\n307. 211\n308. 469\n309. 4\n310. 20\n311. 13\n312. 258\n313. 546\n314. 1104\n315. 7273\n316. 12\n317. 16\n318. 38\n319. 78\n320. 33\n321. 211\n322. 15\n323. 12\n324. 16\n325. 2849\n326. 63\n327. 93\n328. 12\n329. 6\n330. 253\n331. 106\n332. 10\n333. 10\n334. 48\n335. 335\n336. 267\n337. 18\n338. 6\n339. 364\n340. 1242\n341. 1179\n342. 20\n343. 19\n344. 6\n345. 1009\n346. 7\n347. 1987\n348. 189\n349. 5\n350. 6\n351. 8419\n352. 7\n353. 2723\n354. 2\n355. 95\n356. 1719\n357. 6\n358. 6035\n359. 7\n360. 3912\n361. 7144\n362. 49\n363. 369\n364. 120\n365. 5\n366. 28\n367. 49\n368. 253\n369. 10\n370. 10\n371. 13\n372. 1041\n373. 19\n374. 85\n375. 795\n376. 15\n377. 4\n378. 481\n379. 9\n380. 55\n381. 78\n382. 807\n383. 9\n384. 375\n385. 8\n386. 1167\n387. 8\n388. 794\n389. 76\n390. 7\n391. 4\n392. 58\n393. 5\n394. 4\n395. 816\n396. 9\n397. 243\n398. 7\n399. 43\n400. 50\n\n\n",
            "text/html": [
              "<ol class=list-inline>\n",
              "\t<li>0</li>\n",
              "\t<li>0</li>\n",
              "\t<li>0</li>\n",
              "\t<li>0</li>\n",
              "\t<li>0</li>\n",
              "\t<li>0</li>\n",
              "\t<li>0</li>\n",
              "\t<li>0</li>\n",
              "\t<li>0</li>\n",
              "\t<li>0</li>\n",
              "\t<li>0</li>\n",
              "\t<li>0</li>\n",
              "\t<li>0</li>\n",
              "\t<li>0</li>\n",
              "\t<li>0</li>\n",
              "\t<li>0</li>\n",
              "\t<li>0</li>\n",
              "\t<li>0</li>\n",
              "\t<li>0</li>\n",
              "\t<li>0</li>\n",
              "\t<li>0</li>\n",
              "\t<li>0</li>\n",
              "\t<li>0</li>\n",
              "\t<li>0</li>\n",
              "\t<li>0</li>\n",
              "\t<li>0</li>\n",
              "\t<li>0</li>\n",
              "\t<li>0</li>\n",
              "\t<li>0</li>\n",
              "\t<li>0</li>\n",
              "\t<li>0</li>\n",
              "\t<li>0</li>\n",
              "\t<li>0</li>\n",
              "\t<li>0</li>\n",
              "\t<li>0</li>\n",
              "\t<li>0</li>\n",
              "\t<li>0</li>\n",
              "\t<li>0</li>\n",
              "\t<li>0</li>\n",
              "\t<li>0</li>\n",
              "\t<li>0</li>\n",
              "\t<li>0</li>\n",
              "\t<li>0</li>\n",
              "\t<li>0</li>\n",
              "\t<li>0</li>\n",
              "\t<li>0</li>\n",
              "\t<li>0</li>\n",
              "\t<li>0</li>\n",
              "\t<li>0</li>\n",
              "\t<li>0</li>\n",
              "\t<li>0</li>\n",
              "\t<li>0</li>\n",
              "\t<li>0</li>\n",
              "\t<li>0</li>\n",
              "\t<li>0</li>\n",
              "\t<li>0</li>\n",
              "\t<li>0</li>\n",
              "\t<li>0</li>\n",
              "\t<li>0</li>\n",
              "\t<li>0</li>\n",
              "\t<li>0</li>\n",
              "\t<li>0</li>\n",
              "\t<li>0</li>\n",
              "\t<li>0</li>\n",
              "\t<li>0</li>\n",
              "\t<li>0</li>\n",
              "\t<li>0</li>\n",
              "\t<li>0</li>\n",
              "\t<li>0</li>\n",
              "\t<li>0</li>\n",
              "\t<li>0</li>\n",
              "\t<li>0</li>\n",
              "\t<li>0</li>\n",
              "\t<li>0</li>\n",
              "\t<li>0</li>\n",
              "\t<li>0</li>\n",
              "\t<li>0</li>\n",
              "\t<li>0</li>\n",
              "\t<li>0</li>\n",
              "\t<li>0</li>\n",
              "\t<li>0</li>\n",
              "\t<li>0</li>\n",
              "\t<li>0</li>\n",
              "\t<li>0</li>\n",
              "\t<li>0</li>\n",
              "\t<li>0</li>\n",
              "\t<li>0</li>\n",
              "\t<li>0</li>\n",
              "\t<li>0</li>\n",
              "\t<li>0</li>\n",
              "\t<li>0</li>\n",
              "\t<li>0</li>\n",
              "\t<li>0</li>\n",
              "\t<li>0</li>\n",
              "\t<li>0</li>\n",
              "\t<li>0</li>\n",
              "\t<li>0</li>\n",
              "\t<li>0</li>\n",
              "\t<li>0</li>\n",
              "\t<li>0</li>\n",
              "\t<li>0</li>\n",
              "\t<li>0</li>\n",
              "\t<li>0</li>\n",
              "\t<li>0</li>\n",
              "\t<li>0</li>\n",
              "\t<li>0</li>\n",
              "\t<li>0</li>\n",
              "\t<li>0</li>\n",
              "\t<li>0</li>\n",
              "\t<li>0</li>\n",
              "\t<li>0</li>\n",
              "\t<li>0</li>\n",
              "\t<li>0</li>\n",
              "\t<li>0</li>\n",
              "\t<li>0</li>\n",
              "\t<li>0</li>\n",
              "\t<li>0</li>\n",
              "\t<li>0</li>\n",
              "\t<li>0</li>\n",
              "\t<li>0</li>\n",
              "\t<li>0</li>\n",
              "\t<li>0</li>\n",
              "\t<li>0</li>\n",
              "\t<li>0</li>\n",
              "\t<li>0</li>\n",
              "\t<li>0</li>\n",
              "\t<li>0</li>\n",
              "\t<li>0</li>\n",
              "\t<li>0</li>\n",
              "\t<li>0</li>\n",
              "\t<li>0</li>\n",
              "\t<li>0</li>\n",
              "\t<li>0</li>\n",
              "\t<li>0</li>\n",
              "\t<li>0</li>\n",
              "\t<li>0</li>\n",
              "\t<li>0</li>\n",
              "\t<li>0</li>\n",
              "\t<li>0</li>\n",
              "\t<li>0</li>\n",
              "\t<li>0</li>\n",
              "\t<li>0</li>\n",
              "\t<li>0</li>\n",
              "\t<li>0</li>\n",
              "\t<li>0</li>\n",
              "\t<li>0</li>\n",
              "\t<li>0</li>\n",
              "\t<li>0</li>\n",
              "\t<li>0</li>\n",
              "\t<li>0</li>\n",
              "\t<li>0</li>\n",
              "\t<li>0</li>\n",
              "\t<li>0</li>\n",
              "\t<li>0</li>\n",
              "\t<li>0</li>\n",
              "\t<li>0</li>\n",
              "\t<li>0</li>\n",
              "\t<li>0</li>\n",
              "\t<li>0</li>\n",
              "\t<li>0</li>\n",
              "\t<li>0</li>\n",
              "\t<li>0</li>\n",
              "\t<li>0</li>\n",
              "\t<li>0</li>\n",
              "\t<li>0</li>\n",
              "\t<li>0</li>\n",
              "\t<li>0</li>\n",
              "\t<li>0</li>\n",
              "\t<li>0</li>\n",
              "\t<li>0</li>\n",
              "\t<li>0</li>\n",
              "\t<li>0</li>\n",
              "\t<li>0</li>\n",
              "\t<li>0</li>\n",
              "\t<li>0</li>\n",
              "\t<li>0</li>\n",
              "\t<li>0</li>\n",
              "\t<li>0</li>\n",
              "\t<li>0</li>\n",
              "\t<li>0</li>\n",
              "\t<li>0</li>\n",
              "\t<li>0</li>\n",
              "\t<li>0</li>\n",
              "\t<li>0</li>\n",
              "\t<li>0</li>\n",
              "\t<li>0</li>\n",
              "\t<li>0</li>\n",
              "\t<li>0</li>\n",
              "\t<li>0</li>\n",
              "\t<li>0</li>\n",
              "\t<li>0</li>\n",
              "\t<li>0</li>\n",
              "\t<li>0</li>\n",
              "\t<li>0</li>\n",
              "\t<li>0</li>\n",
              "\t<li>0</li>\n",
              "\t<li>0</li>\n",
              "\t<li>0</li>\n",
              "\t<li>0</li>\n",
              "\t<li>0</li>\n",
              "\t<li>0</li>\n",
              "\t<li>0</li>\n",
              "\t<li>0</li>\n",
              "\t<li>0</li>\n",
              "\t<li>0</li>\n",
              "\t<li>0</li>\n",
              "\t<li>0</li>\n",
              "\t<li>0</li>\n",
              "\t<li>0</li>\n",
              "\t<li>0</li>\n",
              "\t<li>0</li>\n",
              "\t<li>0</li>\n",
              "\t<li>0</li>\n",
              "\t<li>0</li>\n",
              "\t<li>0</li>\n",
              "\t<li>0</li>\n",
              "\t<li>0</li>\n",
              "\t<li>0</li>\n",
              "\t<li>0</li>\n",
              "\t<li>0</li>\n",
              "\t<li>0</li>\n",
              "\t<li>0</li>\n",
              "\t<li>0</li>\n",
              "\t<li>0</li>\n",
              "\t<li>0</li>\n",
              "\t<li>0</li>\n",
              "\t<li>0</li>\n",
              "\t<li>0</li>\n",
              "\t<li>0</li>\n",
              "\t<li>0</li>\n",
              "\t<li>0</li>\n",
              "\t<li>0</li>\n",
              "\t<li>0</li>\n",
              "\t<li>0</li>\n",
              "\t<li>0</li>\n",
              "\t<li>0</li>\n",
              "\t<li>0</li>\n",
              "\t<li>0</li>\n",
              "\t<li>0</li>\n",
              "\t<li>0</li>\n",
              "\t<li>0</li>\n",
              "\t<li>0</li>\n",
              "\t<li>0</li>\n",
              "\t<li>0</li>\n",
              "\t<li>0</li>\n",
              "\t<li>0</li>\n",
              "\t<li>0</li>\n",
              "\t<li>0</li>\n",
              "\t<li>0</li>\n",
              "\t<li>0</li>\n",
              "\t<li>0</li>\n",
              "\t<li>0</li>\n",
              "\t<li>0</li>\n",
              "\t<li>0</li>\n",
              "\t<li>0</li>\n",
              "\t<li>0</li>\n",
              "\t<li>0</li>\n",
              "\t<li>0</li>\n",
              "\t<li>0</li>\n",
              "\t<li>0</li>\n",
              "\t<li>0</li>\n",
              "\t<li>0</li>\n",
              "\t<li>0</li>\n",
              "\t<li>0</li>\n",
              "\t<li>0</li>\n",
              "\t<li>0</li>\n",
              "\t<li>0</li>\n",
              "\t<li>0</li>\n",
              "\t<li>0</li>\n",
              "\t<li>0</li>\n",
              "\t<li>1</li>\n",
              "\t<li>14</li>\n",
              "\t<li>20</li>\n",
              "\t<li>47</li>\n",
              "\t<li>111</li>\n",
              "\t<li>439</li>\n",
              "\t<li>3445</li>\n",
              "\t<li>19</li>\n",
              "\t<li>12</li>\n",
              "\t<li>15</li>\n",
              "\t<li>166</li>\n",
              "\t<li>12</li>\n",
              "\t<li>216</li>\n",
              "\t<li>125</li>\n",
              "\t<li>40</li>\n",
              "\t<li>6</li>\n",
              "\t<li>364</li>\n",
              "\t<li>352</li>\n",
              "\t<li>707</li>\n",
              "\t<li>1187</li>\n",
              "\t<li>39</li>\n",
              "\t<li>294</li>\n",
              "\t<li>11</li>\n",
              "\t<li>22</li>\n",
              "\t<li>396</li>\n",
              "\t<li>13</li>\n",
              "\t<li>28</li>\n",
              "\t<li>8</li>\n",
              "\t<li>202</li>\n",
              "\t<li>12</li>\n",
              "\t<li>1109</li>\n",
              "\t<li>23</li>\n",
              "\t<li>94</li>\n",
              "\t<li>2</li>\n",
              "\t<li>151</li>\n",
              "\t<li>111</li>\n",
              "\t<li>211</li>\n",
              "\t<li>469</li>\n",
              "\t<li>4</li>\n",
              "\t<li>20</li>\n",
              "\t<li>13</li>\n",
              "\t<li>258</li>\n",
              "\t<li>546</li>\n",
              "\t<li>1104</li>\n",
              "\t<li>7273</li>\n",
              "\t<li>12</li>\n",
              "\t<li>16</li>\n",
              "\t<li>38</li>\n",
              "\t<li>78</li>\n",
              "\t<li>33</li>\n",
              "\t<li>211</li>\n",
              "\t<li>15</li>\n",
              "\t<li>12</li>\n",
              "\t<li>16</li>\n",
              "\t<li>2849</li>\n",
              "\t<li>63</li>\n",
              "\t<li>93</li>\n",
              "\t<li>12</li>\n",
              "\t<li>6</li>\n",
              "\t<li>253</li>\n",
              "\t<li>106</li>\n",
              "\t<li>10</li>\n",
              "\t<li>10</li>\n",
              "\t<li>48</li>\n",
              "\t<li>335</li>\n",
              "\t<li>267</li>\n",
              "\t<li>18</li>\n",
              "\t<li>6</li>\n",
              "\t<li>364</li>\n",
              "\t<li>1242</li>\n",
              "\t<li>1179</li>\n",
              "\t<li>20</li>\n",
              "\t<li>19</li>\n",
              "\t<li>6</li>\n",
              "\t<li>1009</li>\n",
              "\t<li>7</li>\n",
              "\t<li>1987</li>\n",
              "\t<li>189</li>\n",
              "\t<li>5</li>\n",
              "\t<li>6</li>\n",
              "\t<li>8419</li>\n",
              "\t<li>7</li>\n",
              "\t<li>2723</li>\n",
              "\t<li>2</li>\n",
              "\t<li>95</li>\n",
              "\t<li>1719</li>\n",
              "\t<li>6</li>\n",
              "\t<li>6035</li>\n",
              "\t<li>7</li>\n",
              "\t<li>3912</li>\n",
              "\t<li>7144</li>\n",
              "\t<li>49</li>\n",
              "\t<li>369</li>\n",
              "\t<li>120</li>\n",
              "\t<li>5</li>\n",
              "\t<li>28</li>\n",
              "\t<li>49</li>\n",
              "\t<li>253</li>\n",
              "\t<li>10</li>\n",
              "\t<li>10</li>\n",
              "\t<li>13</li>\n",
              "\t<li>1041</li>\n",
              "\t<li>19</li>\n",
              "\t<li>85</li>\n",
              "\t<li>795</li>\n",
              "\t<li>15</li>\n",
              "\t<li>4</li>\n",
              "\t<li>481</li>\n",
              "\t<li>9</li>\n",
              "\t<li>55</li>\n",
              "\t<li>78</li>\n",
              "\t<li>807</li>\n",
              "\t<li>9</li>\n",
              "\t<li>375</li>\n",
              "\t<li>8</li>\n",
              "\t<li>1167</li>\n",
              "\t<li>8</li>\n",
              "\t<li>794</li>\n",
              "\t<li>76</li>\n",
              "\t<li>7</li>\n",
              "\t<li>4</li>\n",
              "\t<li>58</li>\n",
              "\t<li>5</li>\n",
              "\t<li>4</li>\n",
              "\t<li>816</li>\n",
              "\t<li>9</li>\n",
              "\t<li>243</li>\n",
              "\t<li>7</li>\n",
              "\t<li>43</li>\n",
              "\t<li>50</li>\n",
              "</ol>\n"
            ]
          },
          "metadata": {
            "tags": []
          }
        }
      ]
    },
    {
      "cell_type": "markdown",
      "metadata": {
        "id": "mowFu1_bGkEL",
        "colab_type": "text"
      },
      "source": [
        "### Assign the target values"
      ]
    },
    {
      "cell_type": "code",
      "metadata": {
        "id": "fdR0Frc-_CtB",
        "colab_type": "code",
        "colab": {}
      },
      "source": [
        "y_train = imdb$train$y\n",
        "y_test = imdb$test$y"
      ],
      "execution_count": 0,
      "outputs": []
    },
    {
      "cell_type": "markdown",
      "metadata": {
        "id": "CNTrUl4dGnHJ",
        "colab_type": "text"
      },
      "source": [
        "### Take a look at the target values\n",
        "\n",
        "This is a binary classification problem (2 classes). \n",
        "\n",
        "We can either use a sigmoid function in the last layer in which case we do not need to conver the target values. Alternatively, we can convert the values to their one-hot encoded corresponding values in which case we would need to use the softmax function in the last layer."
      ]
    },
    {
      "cell_type": "code",
      "metadata": {
        "id": "2SM_ECmqF5zH",
        "colab_type": "code",
        "outputId": "97f41659-d621-4737-ddad-6b4968685c59",
        "colab": {
          "base_uri": "https://localhost:8080/",
          "height": 34
        }
      },
      "source": [
        "str(y_train[0:5])"
      ],
      "execution_count": 11,
      "outputs": [
        {
          "output_type": "stream",
          "text": [
            " int [1:5] 1 0 0 1 0\n"
          ],
          "name": "stdout"
        }
      ]
    },
    {
      "cell_type": "markdown",
      "metadata": {
        "id": "2bF_Q-lhHksG",
        "colab_type": "text"
      },
      "source": [
        "## Create a model"
      ]
    },
    {
      "cell_type": "code",
      "metadata": {
        "id": "x0Cmo_fRF52d",
        "colab_type": "code",
        "colab": {}
      },
      "source": [
        "model <- keras_model_sequential() %>%\n",
        "  layer_embedding(input_dim = 10000, output_dim = 32, input_length = 400) %>% #embedding layer\n",
        "  layer_dropout(0.2) %>%\n",
        "  layer_conv_1d(filters = 32, kernel_size = 3, padding = \"valid\", activation = \"relu\", strides = 1) %>%\n",
        "  layer_global_max_pooling_1d() %>%\n",
        "  layer_dense(units = 128, activation = 'relu') %>% # the MLP starts here\n",
        "  layer_dropout(rate = 0.5) %>% \n",
        "  layer_dense(units = 1, activation = 'sigmoid')"
      ],
      "execution_count": 0,
      "outputs": []
    },
    {
      "cell_type": "markdown",
      "metadata": {
        "id": "yiP1lpqKI2n3",
        "colab_type": "text"
      },
      "source": [
        "## Compile the model"
      ]
    },
    {
      "cell_type": "code",
      "metadata": {
        "id": "FckkXo9TG2f6",
        "colab_type": "code",
        "colab": {}
      },
      "source": [
        "model %>% compile(\n",
        "  loss = \"binary_crossentropy\",\n",
        "  optimizer = \"adam\",\n",
        "  metrics = \"accuracy\"\n",
        ")"
      ],
      "execution_count": 0,
      "outputs": []
    },
    {
      "cell_type": "markdown",
      "metadata": {
        "id": "PdyG7Iq1MjXC",
        "colab_type": "text"
      },
      "source": [
        "## Note the output of 1-D global max pooling\n",
        "\n",
        "Here, for each of the 100 embedding vectors, the maximum value is computed. In this example, there are 100 embedding vectors of length 398, and thus the maximum value is extracted resulting in a shape of (None, 100)."
      ]
    },
    {
      "cell_type": "code",
      "metadata": {
        "id": "yqOHmh9dMjdl",
        "colab_type": "code",
        "outputId": "562c026f-3d20-4b58-8f52-771cf39e0d73",
        "colab": {
          "base_uri": "https://localhost:8080/",
          "height": 391
        }
      },
      "source": [
        "summary(model)"
      ],
      "execution_count": 48,
      "outputs": [
        {
          "output_type": "stream",
          "text": [
            "Model: \"sequential_4\"\n",
            "________________________________________________________________________________\n",
            "Layer (type)                        Output Shape                    Param #     \n",
            "================================================================================\n",
            "embedding_4 (Embedding)             (None, 400, 32)                 320000      \n",
            "________________________________________________________________________________\n",
            "dropout_8 (Dropout)                 (None, 400, 32)                 0           \n",
            "________________________________________________________________________________\n",
            "conv1d_4 (Conv1D)                   (None, 398, 32)                 3104        \n",
            "________________________________________________________________________________\n",
            "global_max_pooling1d_4 (GlobalMaxPo (None, 32)                      0           \n",
            "________________________________________________________________________________\n",
            "dense_8 (Dense)                     (None, 128)                     4224        \n",
            "________________________________________________________________________________\n",
            "dropout_9 (Dropout)                 (None, 128)                     0           \n",
            "________________________________________________________________________________\n",
            "dense_9 (Dense)                     (None, 1)                       129         \n",
            "================================================================================\n",
            "Total params: 327,457\n",
            "Trainable params: 327,457\n",
            "Non-trainable params: 0\n",
            "________________________________________________________________________________\n"
          ],
          "name": "stdout"
        }
      ]
    },
    {
      "cell_type": "markdown",
      "metadata": {
        "id": "b8UxbwiKbyWP",
        "colab_type": "text"
      },
      "source": [
        "## Train the model\n",
        "\n",
        "This takes about 1 minute to train on the GPU instance using 4 epochs"
      ]
    },
    {
      "cell_type": "code",
      "metadata": {
        "id": "5gGCDUXBWzL9",
        "colab_type": "code",
        "colab": {}
      },
      "source": [
        "history <- model %>% fit(\n",
        "  x_train,\n",
        "  y_train,\n",
        "  epochs = 3,\n",
        "  validation_split = 0.2,\n",
        "  verbose = 0,\n",
        "  batch_size = 16\n",
        ")"
      ],
      "execution_count": 0,
      "outputs": []
    },
    {
      "cell_type": "markdown",
      "metadata": {
        "id": "lmu7cOgRk2zR",
        "colab_type": "text"
      },
      "source": [
        "### Plot the performance"
      ]
    },
    {
      "cell_type": "code",
      "metadata": {
        "id": "CuM3-FyUWtqq",
        "colab_type": "code",
        "outputId": "82681eb4-7b19-4b97-8c1e-9b86f838eb15",
        "colab": {
          "base_uri": "https://localhost:8080/",
          "height": 857
        }
      },
      "source": [
        "plot(history)"
      ],
      "execution_count": 50,
      "outputs": [
        {
          "output_type": "display_data",
          "data": {
            "image/png": "[encoded data removed]",
            "text/plain": [
              "plot without title"
            ]
          },
          "metadata": {
            "tags": []
          }
        }
      ]
    },
    {
      "cell_type": "markdown",
      "metadata": {
        "id": "nxIn0FARk4wh",
        "colab_type": "text"
      },
      "source": [
        "## Evaluate the performance"
      ]
    },
    {
      "cell_type": "code",
      "metadata": {
        "id": "Gbs8pa6GWtyw",
        "colab_type": "code",
        "outputId": "d3d9ff7e-c08a-4d49-e1b6-000bdb7305cd",
        "colab": {
          "base_uri": "https://localhost:8080/",
          "height": 113
        }
      },
      "source": [
        "model %>% evaluate(x_test, y_test)"
      ],
      "execution_count": 51,
      "outputs": [
        {
          "output_type": "display_data",
          "data": {
            "text/plain": [
              "$loss\n",
              "[1] 0.3224809\n",
              "\n",
              "$acc\n",
              "[1] 0.87104\n"
            ],
            "text/latex": "\\begin{description}\n\\item[\\$loss] 0.322480883545876\n\\item[\\$acc] 0.871039986610413\n\\end{description}\n",
            "text/markdown": "$loss\n:   0.322480883545876\n$acc\n:   0.871039986610413\n\n\n",
            "text/html": [
              "<dl>\n",
              "\t<dt>$loss</dt>\n",
              "\t\t<dd>0.322480883545876</dd>\n",
              "\t<dt>$acc</dt>\n",
              "\t\t<dd>0.871039986610413</dd>\n",
              "</dl>\n"
            ]
          },
          "metadata": {
            "tags": []
          }
        }
      ]
    },
    {
      "cell_type": "markdown",
      "metadata": {
        "id": "44Egtz6GLG1n",
        "colab_type": "text"
      },
      "source": [
        "## Predicting\n",
        "\n",
        "We can obtain the sigmoid outputs for each test case."
      ]
    },
    {
      "cell_type": "code",
      "metadata": {
        "id": "4c72lmieG2jL",
        "colab_type": "code",
        "outputId": "423247fe-b7a0-4029-fd16-6914e91214be",
        "colab": {
          "base_uri": "https://localhost:8080/",
          "height": 263
        }
      },
      "source": [
        "model %>% predict(x_test[1:10,])"
      ],
      "execution_count": 23,
      "outputs": [
        {
          "output_type": "display_data",
          "data": {
            "text/plain": [
              "      [,1]        \n",
              " [1,] 2.763301e-03\n",
              " [2,] 9.995775e-01\n",
              " [3,] 3.021270e-03\n",
              " [4,] 9.325276e-01\n",
              " [5,] 9.991452e-01\n",
              " [6,] 6.911783e-01\n",
              " [7,] 3.939599e-03\n",
              " [8,] 2.771616e-05\n",
              " [9,] 9.853506e-01\n",
              "[10,] 9.308123e-01"
            ],
            "text/latex": "A matrix: 10 × 1 of type dbl\n\\begin{tabular}{l}\n\t 2.763301e-03\\\\\n\t 9.995775e-01\\\\\n\t 3.021270e-03\\\\\n\t 9.325276e-01\\\\\n\t 9.991452e-01\\\\\n\t 6.911783e-01\\\\\n\t 3.939599e-03\\\\\n\t 2.771616e-05\\\\\n\t 9.853506e-01\\\\\n\t 9.308123e-01\\\\\n\\end{tabular}\n",
            "text/markdown": "\nA matrix: 10 × 1 of type dbl\n\n| 2.763301e-03 |\n| 9.995775e-01 |\n| 3.021270e-03 |\n| 9.325276e-01 |\n| 9.991452e-01 |\n| 6.911783e-01 |\n| 3.939599e-03 |\n| 2.771616e-05 |\n| 9.853506e-01 |\n| 9.308123e-01 |\n\n",
            "text/html": [
              "<table>\n",
              "<caption>A matrix: 10 × 1 of type dbl</caption>\n",
              "<tbody>\n",
              "\t<tr><td>2.763301e-03</td></tr>\n",
              "\t<tr><td>9.995775e-01</td></tr>\n",
              "\t<tr><td>3.021270e-03</td></tr>\n",
              "\t<tr><td>9.325276e-01</td></tr>\n",
              "\t<tr><td>9.991452e-01</td></tr>\n",
              "\t<tr><td>6.911783e-01</td></tr>\n",
              "\t<tr><td>3.939599e-03</td></tr>\n",
              "\t<tr><td>2.771616e-05</td></tr>\n",
              "\t<tr><td>9.853506e-01</td></tr>\n",
              "\t<tr><td>9.308123e-01</td></tr>\n",
              "</tbody>\n",
              "</table>\n"
            ]
          },
          "metadata": {
            "tags": []
          }
        }
      ]
    },
    {
      "cell_type": "markdown",
      "metadata": {
        "id": "_Yz1hQ0qi7jb",
        "colab_type": "text"
      },
      "source": [
        "Using the `predict_classes` function we can get the binary predictions for each test case."
      ]
    },
    {
      "cell_type": "code",
      "metadata": {
        "id": "fRlRInysG2mu",
        "colab_type": "code",
        "colab": {
          "base_uri": "https://localhost:8080/",
          "height": 314
        },
        "outputId": "2d54febd-00c0-4de1-d98a-9264a84c704e"
      },
      "source": [
        "model %>% predict_classes(x_test[1:10,])"
      ],
      "execution_count": 28,
      "outputs": [
        {
          "output_type": "display_data",
          "data": {
            "text/plain": [
              "      [,1]\n",
              " [1,] 0   \n",
              " [2,] 1   \n",
              " [3,] 0   \n",
              " [4,] 1   \n",
              " [5,] 1   \n",
              " [6,] 1   \n",
              " [7,] 0   \n",
              " [8,] 0   \n",
              " [9,] 1   \n",
              "[10,] 1   "
            ],
            "text/latex": "A matrix: 10 × 1 of type int\n\\begin{tabular}{l}\n\t 0\\\\\n\t 1\\\\\n\t 0\\\\\n\t 1\\\\\n\t 1\\\\\n\t 1\\\\\n\t 0\\\\\n\t 0\\\\\n\t 1\\\\\n\t 1\\\\\n\\end{tabular}\n",
            "text/markdown": "\nA matrix: 10 × 1 of type int\n\n| 0 |\n| 1 |\n| 0 |\n| 1 |\n| 1 |\n| 1 |\n| 0 |\n| 0 |\n| 1 |\n| 1 |\n\n",
            "text/html": [
              "<table>\n",
              "<caption>A matrix: 10 × 1 of type int</caption>\n",
              "<tbody>\n",
              "\t<tr><td>0</td></tr>\n",
              "\t<tr><td>1</td></tr>\n",
              "\t<tr><td>0</td></tr>\n",
              "\t<tr><td>1</td></tr>\n",
              "\t<tr><td>1</td></tr>\n",
              "\t<tr><td>1</td></tr>\n",
              "\t<tr><td>0</td></tr>\n",
              "\t<tr><td>0</td></tr>\n",
              "\t<tr><td>1</td></tr>\n",
              "\t<tr><td>1</td></tr>\n",
              "</tbody>\n",
              "</table>\n"
            ]
          },
          "metadata": {
            "tags": []
          }
        }
      ]
    },
    {
      "cell_type": "code",
      "metadata": {
        "id": "rgBj3mzBF54s",
        "colab_type": "code",
        "colab": {}
      },
      "source": [
        ""
      ],
      "execution_count": 0,
      "outputs": []
    }
  ]
}
