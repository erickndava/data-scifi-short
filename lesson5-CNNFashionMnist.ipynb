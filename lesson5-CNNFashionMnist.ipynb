{
  "nbformat": 4,
  "nbformat_minor": 0,
  "metadata": {
    "kernelspec": {
      "display_name": "R",
      "language": "R",
      "name": "ir"
    },
    "language_info": {
      "codemirror_mode": "r",
      "file_extension": ".r",
      "mimetype": "text/x-r-source",
      "name": "R",
      "pygments_lexer": "r",
      "version": "3.3.1"
    },
    "colab": {
      "name": "UCT2019-CNNFashionMnist_R.ipynb",
      "version": "0.3.2",
      "provenance": [],
      "collapsed_sections": []
    },
    "accelerator": "GPU"
  },
  "cells": [
    {
      "cell_type": "markdown",
      "metadata": {
        "id": "YS9FclBXnTZL",
        "colab_type": "text"
      },
      "source": [
        "***Dr. Emmanuel Dufourq*** www.emmanueldufourq.com\n",
        "\n",
        "***African Institute for Mathematical Sciences***\n",
        "\n",
        "***2019***\n",
        "\n",
        "\n",
        "Credits: The data imports were extracted from https://cran.r-project.org/web/packages/keras/vignettes/tutorial_basic_classification.html\n",
        "\n",
        "***NOTE***\n",
        "\n",
        "Be sure to use hardware acceleration to use the GPU. Click on `Runtime`, change `runtime type`, and select `GPU` for the *hardware accelerator* option."
      ]
    },
    {
      "cell_type": "code",
      "metadata": {
        "id": "fdUuuxhRiXzg",
        "colab_type": "code",
        "outputId": "bd720f5b-e787-4edd-fb08-80dae9fb0c3a",
        "colab": {
          "base_uri": "https://localhost:8080/",
          "height": 51
        }
      },
      "source": [
        "devtools::install_github(\"rstudio/keras\")"
      ],
      "execution_count": 88,
      "outputs": [
        {
          "output_type": "stream",
          "text": [
            "Skipping install of 'keras' from a github remote, the SHA1 (34dc89ed) has not changed since last install.\n",
            "  Use `force = TRUE` to force installation\n"
          ],
          "name": "stderr"
        }
      ]
    },
    {
      "cell_type": "markdown",
      "metadata": {
        "id": "fQteA-lKkVo-",
        "colab_type": "text"
      },
      "source": [
        "## Import the Keras library"
      ]
    },
    {
      "cell_type": "code",
      "metadata": {
        "id": "_iMaChtciX8e",
        "colab_type": "code",
        "colab": {}
      },
      "source": [
        "library(keras)"
      ],
      "execution_count": 0,
      "outputs": []
    },
    {
      "cell_type": "markdown",
      "metadata": {
        "id": "XP5Uf7XsAQ3e",
        "colab_type": "text"
      },
      "source": [
        "## Load the Fashion MNIST dataset\n",
        "\n",
        "Further details about the dataset are available here: https://tensorflow.rstudio.com/keras/reference/dataset_fashion_mnist.html"
      ]
    },
    {
      "cell_type": "code",
      "metadata": {
        "id": "XGk3t9776WoU",
        "colab_type": "code",
        "colab": {}
      },
      "source": [
        "fashion_mnist <- dataset_fashion_mnist()"
      ],
      "execution_count": 0,
      "outputs": []
    },
    {
      "cell_type": "markdown",
      "metadata": {
        "id": "nB2p8bUSjTez",
        "colab_type": "text"
      },
      "source": [
        "## Load features"
      ]
    },
    {
      "cell_type": "code",
      "metadata": {
        "id": "FslCKJsk8Ol4",
        "colab_type": "code",
        "colab": {}
      },
      "source": [
        "c(x_train, y_train) %<-% fashion_mnist$train\n",
        "c(x_test, y_test) %<-% fashion_mnist$test"
      ],
      "execution_count": 0,
      "outputs": []
    },
    {
      "cell_type": "markdown",
      "metadata": {
        "id": "4YUwKP2fI1hy",
        "colab_type": "text"
      },
      "source": [
        "## Check dimension\n",
        "\n",
        "There are 60,000 images. Each image has a size of 28x28 just like the original MNIST dataset."
      ]
    },
    {
      "cell_type": "code",
      "metadata": {
        "id": "-XfY_xQrI1mH",
        "colab_type": "code",
        "outputId": "2cb0bbca-1129-4c94-ded8-53f42ce5614a",
        "colab": {
          "base_uri": "https://localhost:8080/",
          "height": 96
        }
      },
      "source": [
        "dim(x_train)"
      ],
      "execution_count": 92,
      "outputs": [
        {
          "output_type": "display_data",
          "data": {
            "text/plain": [
              "[1] 60000    28    28"
            ],
            "text/latex": "\\begin{enumerate*}\n\\item 60000\n\\item 28\n\\item 28\n\\end{enumerate*}\n",
            "text/markdown": "1. 60000\n2. 28\n3. 28\n\n\n",
            "text/html": [
              "<ol class=list-inline>\n",
              "\t<li>60000</li>\n",
              "\t<li>28</li>\n",
              "\t<li>28</li>\n",
              "</ol>\n"
            ]
          },
          "metadata": {
            "tags": []
          }
        }
      ]
    },
    {
      "cell_type": "markdown",
      "metadata": {
        "id": "rF_VUlRMIDl5",
        "colab_type": "text"
      },
      "source": [
        "## Reshape\n",
        "\n",
        "Keras wants the dimension for CNNs to be the following: [batches, width, height, channels] so we need to reshape the data by adding the channel dimension.\n",
        "\n",
        "To do the reshape we use the `array_reshape` function, further information can be found here: https://www.rdocumentation.org/packages/reticulate/versions/1.13/topics/array_reshape"
      ]
    },
    {
      "cell_type": "code",
      "metadata": {
        "id": "25KoZ4FwIDt3",
        "colab_type": "code",
        "colab": {}
      },
      "source": [
        "x_train <- array_reshape(x_train, c(nrow(x_train), 28, 28, 1))\n",
        "x_test <- array_reshape(x_test, c(nrow(x_test), 28, 28, 1))"
      ],
      "execution_count": 0,
      "outputs": []
    },
    {
      "cell_type": "markdown",
      "metadata": {
        "id": "7bZHFjjSJd0o",
        "colab_type": "text"
      },
      "source": [
        "## Take a look at a  training example\n",
        "\n",
        "The dimension is correct but take a look at the values in the data point. The values are large, between 0 and 255. Thus we will need to normalise the values."
      ]
    },
    {
      "cell_type": "code",
      "metadata": {
        "id": "KMJgcAncJd98",
        "colab_type": "code",
        "outputId": "c5c00059-7338-41e5-9557-6663f707a6a6",
        "colab": {
          "base_uri": "https://localhost:8080/",
          "height": 79
        }
      },
      "source": [
        "dim(x_train[1,,,])"
      ],
      "execution_count": 94,
      "outputs": [
        {
          "output_type": "display_data",
          "data": {
            "text/plain": [
              "[1] 28 28"
            ],
            "text/latex": "\\begin{enumerate*}\n\\item 28\n\\item 28\n\\end{enumerate*}\n",
            "text/markdown": "1. 28\n2. 28\n\n\n",
            "text/html": [
              "<ol class=list-inline>\n",
              "\t<li>28</li>\n",
              "\t<li>28</li>\n",
              "</ol>\n"
            ]
          },
          "metadata": {
            "tags": []
          }
        }
      ]
    },
    {
      "cell_type": "code",
      "metadata": {
        "id": "7OuQ7eyFJKqB",
        "colab_type": "code",
        "outputId": "b8543f7f-7b63-4899-c163-a1303294f830",
        "colab": {
          "base_uri": "https://localhost:8080/",
          "height": 1000
        }
      },
      "source": [
        "print(x_train[1,,,1])"
      ],
      "execution_count": 95,
      "outputs": [
        {
          "output_type": "stream",
          "text": [
            "      [,1] [,2] [,3] [,4] [,5] [,6] [,7] [,8] [,9] [,10] [,11] [,12] [,13]\n",
            " [1,]    0    0    0    0    0    0    0    0    0     0     0     0     0\n",
            " [2,]    0    0    0    0    0    0    0    0    0     0     0     0     0\n",
            " [3,]    0    0    0    0    0    0    0    0    0     0     0     0     0\n",
            " [4,]    0    0    0    0    0    0    0    0    0     0     0     0     1\n",
            " [5,]    0    0    0    0    0    0    0    0    0     0     0     0     3\n",
            " [6,]    0    0    0    0    0    0    0    0    0     0     0     0     6\n",
            " [7,]    0    0    0    0    0    0    0    0    0     0     0     0     0\n",
            " [8,]    0    0    0    0    0    0    0    0    0     0     0     1     0\n",
            " [9,]    0    0    0    0    0    0    0    0    0     1     1     1     0\n",
            "[10,]    0    0    0    0    0    0    0    0    0     0     0     0     0\n",
            "[11,]    0    0    0    0    0    0    0    0    0     0     0     0     0\n",
            "[12,]    0    0    0    0    0    0    0    0    0     1     3     0    12\n",
            "[13,]    0    0    0    0    0    0    0    0    0     0     6     0    99\n",
            "[14,]    0    0    0    0    0    0    0    0    0     4     0     0    55\n",
            "[15,]    0    0    1    4    6    7    2    0    0     0     0     0   237\n",
            "[16,]    0    3    0    0    0    0    0    0    0    62   145   204   228\n",
            "[17,]    0    0    0    0   18   44   82  107  189   228   220   222   217\n",
            "[18,]    0   57  187  208  224  221  224  208  204   214   208   209   200\n",
            "[19,]    3  202  228  224  221  211  211  214  205   205   205   220   240\n",
            "[20,]   98  233  198  210  222  229  229  234  249   220   194   215   217\n",
            "[21,]   75  204  212  204  193  205  211  225  216   185   197   206   198\n",
            "[22,]   48  203  183  194  213  197  185  190  194   192   202   214   219\n",
            "[23,]    0  122  219  193  179  171  183  196  204   210   213   207   211\n",
            "[24,]    0    0   74  189  212  191  175  172  175   181   185   188   189\n",
            "[25,]    2    0    0    0   66  200  222  237  239   242   246   243   244\n",
            "[26,]    0    0    0    0    0    0    0   40   61    44    72    41    35\n",
            "[27,]    0    0    0    0    0    0    0    0    0     0     0     0     0\n",
            "[28,]    0    0    0    0    0    0    0    0    0     0     0     0     0\n",
            "      [,14] [,15] [,16] [,17] [,18] [,19] [,20] [,21] [,22] [,23] [,24] [,25]\n",
            " [1,]     0     0     0     0     0     0     0     0     0     0     0     0\n",
            " [2,]     0     0     0     0     0     0     0     0     0     0     0     0\n",
            " [3,]     0     0     0     0     0     0     0     0     0     0     0     0\n",
            " [4,]     0     0    13    73     0     0     1     4     0     0     0     0\n",
            " [5,]     0    36   136   127    62    54     0     0     0     1     3     4\n",
            " [6,]     0   102   204   176   134   144   123    23     0     0     0     0\n",
            " [7,]     0   155   236   207   178   107   156   161   109    64    23    77\n",
            " [8,]    69   207   223   218   216   216   163   127   121   122   146   141\n",
            " [9,]   200   232   232   233   229   223   223   215   213   164   127   123\n",
            "[10,]   183   225   216   223   228   235   227   224   222   224   221   223\n",
            "[11,]   193   228   218   213   198   180   212   210   211   213   223   220\n",
            "[12,]   219   220   212   218   192   169   227   208   218   224   212   226\n",
            "[13,]   244   222   220   218   203   198   221   215   213   222   220   245\n",
            "[14,]   236   228   230   228   240   232   213   218   223   234   217   217\n",
            "[15,]   226   217   223   222   219   222   221   216   223   229   215   218\n",
            "[16,]   207   213   221   218   208   211   218   224   223   219   215   224\n",
            "[17,]   226   200   205   211   230   224   234   176   188   250   248   233\n",
            "[18,]   159   245   193   206   223   255   255   221   234   221   211   220\n",
            "[19,]    80   150   255   229   221   188   154   191   210   204   209   222\n",
            "[20,]   241    65    73   106   117   168   219   221   215   217   223   223\n",
            "[21,]   213   240   195   227   245   239   223   218   212   209   222   220\n",
            "[22,]   221   220   236   225   216   199   206   186   181   177   172   181\n",
            "[23,]   210   200   196   194   191   195   191   198   192   176   156   167\n",
            "[24,]   188   193   198   204   209   210   210   211   188   188   194   192\n",
            "[25,]   221   220   193   191   179   182   182   181   176   166   168    99\n",
            "[26,]     0     0     0     0     0     0     0     0     0     0     0     0\n",
            "[27,]     0     0     0     0     0     0     0     0     0     0     0     0\n",
            "[28,]     0     0     0     0     0     0     0     0     0     0     0     0\n",
            "      [,26] [,27] [,28]\n",
            " [1,]     0     0     0\n",
            " [2,]     0     0     0\n",
            " [3,]     0     0     0\n",
            " [4,]     1     1     0\n",
            " [5,]     0     0     3\n",
            " [6,]    12    10     0\n",
            " [7,]   130    72    15\n",
            " [8,]    88   172    66\n",
            " [9,]   196   229     0\n",
            "[10,]   245   173     0\n",
            "[11,]   243   202     0\n",
            "[12,]   197   209    52\n",
            "[13,]   119   167    56\n",
            "[14,]   209    92     0\n",
            "[15,]   255    77     0\n",
            "[16,]   244   159     0\n",
            "[17,]   238   215     0\n",
            "[18,]   232   246     0\n",
            "[19,]   228   225     0\n",
            "[20,]   224   229    29\n",
            "[21,]   221   230    67\n",
            "[22,]   205   206   115\n",
            "[23,]   177   210    92\n",
            "[24,]   216   170     0\n",
            "[25,]    58     0     0\n",
            "[26,]     0     0     0\n",
            "[27,]     0     0     0\n",
            "[28,]     0     0     0\n"
          ],
          "name": "stdout"
        }
      ]
    },
    {
      "cell_type": "markdown",
      "metadata": {
        "id": "25rl1ReBLJVY",
        "colab_type": "text"
      },
      "source": [
        "## Normalise\n",
        "\n",
        "A typical image is made up of values ranging from 0 to 255, so we can normalise by dividing by the maximum value which in this case is 255."
      ]
    },
    {
      "cell_type": "code",
      "metadata": {
        "id": "-b-wMlDSKyYK",
        "colab_type": "code",
        "colab": {}
      },
      "source": [
        "x_train <- x_train / 255\n",
        "x_test <- x_test / 255"
      ],
      "execution_count": 0,
      "outputs": []
    },
    {
      "cell_type": "markdown",
      "metadata": {
        "id": "VNa9k3I6LO5S",
        "colab_type": "text"
      },
      "source": [
        "Now we can check the values. This looks better and is suitable for a CNN."
      ]
    },
    {
      "cell_type": "code",
      "metadata": {
        "id": "8T1veQYrLI5G",
        "colab_type": "code",
        "outputId": "1225c650-1d23-4ac0-9651-6bf71e39530f",
        "colab": {
          "base_uri": "https://localhost:8080/",
          "height": 1000
        }
      },
      "source": [
        "print(x_train[1,,,1])"
      ],
      "execution_count": 97,
      "outputs": [
        {
          "output_type": "stream",
          "text": [
            "             [,1]       [,2]        [,3]       [,4]       [,5]       [,6]\n",
            " [1,] 0.000000000 0.00000000 0.000000000 0.00000000 0.00000000 0.00000000\n",
            " [2,] 0.000000000 0.00000000 0.000000000 0.00000000 0.00000000 0.00000000\n",
            " [3,] 0.000000000 0.00000000 0.000000000 0.00000000 0.00000000 0.00000000\n",
            " [4,] 0.000000000 0.00000000 0.000000000 0.00000000 0.00000000 0.00000000\n",
            " [5,] 0.000000000 0.00000000 0.000000000 0.00000000 0.00000000 0.00000000\n",
            " [6,] 0.000000000 0.00000000 0.000000000 0.00000000 0.00000000 0.00000000\n",
            " [7,] 0.000000000 0.00000000 0.000000000 0.00000000 0.00000000 0.00000000\n",
            " [8,] 0.000000000 0.00000000 0.000000000 0.00000000 0.00000000 0.00000000\n",
            " [9,] 0.000000000 0.00000000 0.000000000 0.00000000 0.00000000 0.00000000\n",
            "[10,] 0.000000000 0.00000000 0.000000000 0.00000000 0.00000000 0.00000000\n",
            "[11,] 0.000000000 0.00000000 0.000000000 0.00000000 0.00000000 0.00000000\n",
            "[12,] 0.000000000 0.00000000 0.000000000 0.00000000 0.00000000 0.00000000\n",
            "[13,] 0.000000000 0.00000000 0.000000000 0.00000000 0.00000000 0.00000000\n",
            "[14,] 0.000000000 0.00000000 0.000000000 0.00000000 0.00000000 0.00000000\n",
            "[15,] 0.000000000 0.00000000 0.003921569 0.01568627 0.02352941 0.02745098\n",
            "[16,] 0.000000000 0.01176471 0.000000000 0.00000000 0.00000000 0.00000000\n",
            "[17,] 0.000000000 0.00000000 0.000000000 0.00000000 0.07058824 0.17254902\n",
            "[18,] 0.000000000 0.22352941 0.733333333 0.81568627 0.87843137 0.86666667\n",
            "[19,] 0.011764706 0.79215686 0.894117647 0.87843137 0.86666667 0.82745098\n",
            "[20,] 0.384313725 0.91372549 0.776470588 0.82352941 0.87058824 0.89803922\n",
            "[21,] 0.294117647 0.80000000 0.831372549 0.80000000 0.75686275 0.80392157\n",
            "[22,] 0.188235294 0.79607843 0.717647059 0.76078431 0.83529412 0.77254902\n",
            "[23,] 0.000000000 0.47843137 0.858823529 0.75686275 0.70196078 0.67058824\n",
            "[24,] 0.000000000 0.00000000 0.290196078 0.74117647 0.83137255 0.74901961\n",
            "[25,] 0.007843137 0.00000000 0.000000000 0.00000000 0.25882353 0.78431373\n",
            "[26,] 0.000000000 0.00000000 0.000000000 0.00000000 0.00000000 0.00000000\n",
            "[27,] 0.000000000 0.00000000 0.000000000 0.00000000 0.00000000 0.00000000\n",
            "[28,] 0.000000000 0.00000000 0.000000000 0.00000000 0.00000000 0.00000000\n",
            "             [,7]      [,8]      [,9]       [,10]       [,11]       [,12]\n",
            " [1,] 0.000000000 0.0000000 0.0000000 0.000000000 0.000000000 0.000000000\n",
            " [2,] 0.000000000 0.0000000 0.0000000 0.000000000 0.000000000 0.000000000\n",
            " [3,] 0.000000000 0.0000000 0.0000000 0.000000000 0.000000000 0.000000000\n",
            " [4,] 0.000000000 0.0000000 0.0000000 0.000000000 0.000000000 0.000000000\n",
            " [5,] 0.000000000 0.0000000 0.0000000 0.000000000 0.000000000 0.000000000\n",
            " [6,] 0.000000000 0.0000000 0.0000000 0.000000000 0.000000000 0.000000000\n",
            " [7,] 0.000000000 0.0000000 0.0000000 0.000000000 0.000000000 0.000000000\n",
            " [8,] 0.000000000 0.0000000 0.0000000 0.000000000 0.000000000 0.003921569\n",
            " [9,] 0.000000000 0.0000000 0.0000000 0.003921569 0.003921569 0.003921569\n",
            "[10,] 0.000000000 0.0000000 0.0000000 0.000000000 0.000000000 0.000000000\n",
            "[11,] 0.000000000 0.0000000 0.0000000 0.000000000 0.000000000 0.000000000\n",
            "[12,] 0.000000000 0.0000000 0.0000000 0.003921569 0.011764706 0.000000000\n",
            "[13,] 0.000000000 0.0000000 0.0000000 0.000000000 0.023529412 0.000000000\n",
            "[14,] 0.000000000 0.0000000 0.0000000 0.015686275 0.000000000 0.000000000\n",
            "[15,] 0.007843137 0.0000000 0.0000000 0.000000000 0.000000000 0.000000000\n",
            "[16,] 0.000000000 0.0000000 0.0000000 0.243137255 0.568627451 0.800000000\n",
            "[17,] 0.321568627 0.4196078 0.7411765 0.894117647 0.862745098 0.870588235\n",
            "[18,] 0.878431373 0.8156863 0.8000000 0.839215686 0.815686275 0.819607843\n",
            "[19,] 0.827450980 0.8392157 0.8039216 0.803921569 0.803921569 0.862745098\n",
            "[20,] 0.898039216 0.9176471 0.9764706 0.862745098 0.760784314 0.843137255\n",
            "[21,] 0.827450980 0.8823529 0.8470588 0.725490196 0.772549020 0.807843137\n",
            "[22,] 0.725490196 0.7450980 0.7607843 0.752941176 0.792156863 0.839215686\n",
            "[23,] 0.717647059 0.7686275 0.8000000 0.823529412 0.835294118 0.811764706\n",
            "[24,] 0.686274510 0.6745098 0.6862745 0.709803922 0.725490196 0.737254902\n",
            "[25,] 0.870588235 0.9294118 0.9372549 0.949019608 0.964705882 0.952941176\n",
            "[26,] 0.000000000 0.1568627 0.2392157 0.172549020 0.282352941 0.160784314\n",
            "[27,] 0.000000000 0.0000000 0.0000000 0.000000000 0.000000000 0.000000000\n",
            "[28,] 0.000000000 0.0000000 0.0000000 0.000000000 0.000000000 0.000000000\n",
            "            [,13]     [,14]     [,15]      [,16]     [,17]     [,18]     [,19]\n",
            " [1,] 0.000000000 0.0000000 0.0000000 0.00000000 0.0000000 0.0000000 0.0000000\n",
            " [2,] 0.000000000 0.0000000 0.0000000 0.00000000 0.0000000 0.0000000 0.0000000\n",
            " [3,] 0.000000000 0.0000000 0.0000000 0.00000000 0.0000000 0.0000000 0.0000000\n",
            " [4,] 0.003921569 0.0000000 0.0000000 0.05098039 0.2862745 0.0000000 0.0000000\n",
            " [5,] 0.011764706 0.0000000 0.1411765 0.53333333 0.4980392 0.2431373 0.2117647\n",
            " [6,] 0.023529412 0.0000000 0.4000000 0.80000000 0.6901961 0.5254902 0.5647059\n",
            " [7,] 0.000000000 0.0000000 0.6078431 0.92549020 0.8117647 0.6980392 0.4196078\n",
            " [8,] 0.000000000 0.2705882 0.8117647 0.87450980 0.8549020 0.8470588 0.8470588\n",
            " [9,] 0.000000000 0.7843137 0.9098039 0.90980392 0.9137255 0.8980392 0.8745098\n",
            "[10,] 0.000000000 0.7176471 0.8823529 0.84705882 0.8745098 0.8941176 0.9215686\n",
            "[11,] 0.000000000 0.7568627 0.8941176 0.85490196 0.8352941 0.7764706 0.7058824\n",
            "[12,] 0.047058824 0.8588235 0.8627451 0.83137255 0.8549020 0.7529412 0.6627451\n",
            "[13,] 0.388235294 0.9568627 0.8705882 0.86274510 0.8549020 0.7960784 0.7764706\n",
            "[14,] 0.215686275 0.9254902 0.8941176 0.90196078 0.8941176 0.9411765 0.9098039\n",
            "[15,] 0.929411765 0.8862745 0.8509804 0.87450980 0.8705882 0.8588235 0.8705882\n",
            "[16,] 0.894117647 0.8117647 0.8352941 0.86666667 0.8549020 0.8156863 0.8274510\n",
            "[17,] 0.850980392 0.8862745 0.7843137 0.80392157 0.8274510 0.9019608 0.8784314\n",
            "[18,] 0.784313725 0.6235294 0.9607843 0.75686275 0.8078431 0.8745098 1.0000000\n",
            "[19,] 0.941176471 0.3137255 0.5882353 1.00000000 0.8980392 0.8666667 0.7372549\n",
            "[20,] 0.850980392 0.9450980 0.2549020 0.28627451 0.4156863 0.4588235 0.6588235\n",
            "[21,] 0.776470588 0.8352941 0.9411765 0.76470588 0.8901961 0.9607843 0.9372549\n",
            "[22,] 0.858823529 0.8666667 0.8627451 0.92549020 0.8823529 0.8470588 0.7803922\n",
            "[23,] 0.827450980 0.8235294 0.7843137 0.76862745 0.7607843 0.7490196 0.7647059\n",
            "[24,] 0.741176471 0.7372549 0.7568627 0.77647059 0.8000000 0.8196078 0.8235294\n",
            "[25,] 0.956862745 0.8666667 0.8627451 0.75686275 0.7490196 0.7019608 0.7137255\n",
            "[26,] 0.137254902 0.0000000 0.0000000 0.00000000 0.0000000 0.0000000 0.0000000\n",
            "[27,] 0.000000000 0.0000000 0.0000000 0.00000000 0.0000000 0.0000000 0.0000000\n",
            "[28,] 0.000000000 0.0000000 0.0000000 0.00000000 0.0000000 0.0000000 0.0000000\n",
            "            [,20]      [,21]     [,22]       [,23]      [,24]      [,25]\n",
            " [1,] 0.000000000 0.00000000 0.0000000 0.000000000 0.00000000 0.00000000\n",
            " [2,] 0.000000000 0.00000000 0.0000000 0.000000000 0.00000000 0.00000000\n",
            " [3,] 0.000000000 0.00000000 0.0000000 0.000000000 0.00000000 0.00000000\n",
            " [4,] 0.003921569 0.01568627 0.0000000 0.000000000 0.00000000 0.00000000\n",
            " [5,] 0.000000000 0.00000000 0.0000000 0.003921569 0.01176471 0.01568627\n",
            " [6,] 0.482352941 0.09019608 0.0000000 0.000000000 0.00000000 0.00000000\n",
            " [7,] 0.611764706 0.63137255 0.4274510 0.250980392 0.09019608 0.30196078\n",
            " [8,] 0.639215686 0.49803922 0.4745098 0.478431373 0.57254902 0.55294118\n",
            " [9,] 0.874509804 0.84313725 0.8352941 0.643137255 0.49803922 0.48235294\n",
            "[10,] 0.890196078 0.87843137 0.8705882 0.878431373 0.86666667 0.87450980\n",
            "[11,] 0.831372549 0.82352941 0.8274510 0.835294118 0.87450980 0.86274510\n",
            "[12,] 0.890196078 0.81568627 0.8549020 0.878431373 0.83137255 0.88627451\n",
            "[13,] 0.866666667 0.84313725 0.8352941 0.870588235 0.86274510 0.96078431\n",
            "[14,] 0.835294118 0.85490196 0.8745098 0.917647059 0.85098039 0.85098039\n",
            "[15,] 0.866666667 0.84705882 0.8745098 0.898039216 0.84313725 0.85490196\n",
            "[16,] 0.854901961 0.87843137 0.8745098 0.858823529 0.84313725 0.87843137\n",
            "[17,] 0.917647059 0.69019608 0.7372549 0.980392157 0.97254902 0.91372549\n",
            "[18,] 1.000000000 0.86666667 0.9176471 0.866666667 0.82745098 0.86274510\n",
            "[19,] 0.603921569 0.74901961 0.8235294 0.800000000 0.81960784 0.87058824\n",
            "[20,] 0.858823529 0.86666667 0.8431373 0.850980392 0.87450980 0.87450980\n",
            "[21,] 0.874509804 0.85490196 0.8313725 0.819607843 0.87058824 0.86274510\n",
            "[22,] 0.807843137 0.72941176 0.7098039 0.694117647 0.67450980 0.70980392\n",
            "[23,] 0.749019608 0.77647059 0.7529412 0.690196078 0.61176471 0.65490196\n",
            "[24,] 0.823529412 0.82745098 0.7372549 0.737254902 0.76078431 0.75294118\n",
            "[25,] 0.713725490 0.70980392 0.6901961 0.650980392 0.65882353 0.38823529\n",
            "[26,] 0.000000000 0.00000000 0.0000000 0.000000000 0.00000000 0.00000000\n",
            "[27,] 0.000000000 0.00000000 0.0000000 0.000000000 0.00000000 0.00000000\n",
            "[28,] 0.000000000 0.00000000 0.0000000 0.000000000 0.00000000 0.00000000\n",
            "            [,26]       [,27]      [,28]\n",
            " [1,] 0.000000000 0.000000000 0.00000000\n",
            " [2,] 0.000000000 0.000000000 0.00000000\n",
            " [3,] 0.000000000 0.000000000 0.00000000\n",
            " [4,] 0.003921569 0.003921569 0.00000000\n",
            " [5,] 0.000000000 0.000000000 0.01176471\n",
            " [6,] 0.047058824 0.039215686 0.00000000\n",
            " [7,] 0.509803922 0.282352941 0.05882353\n",
            " [8,] 0.345098039 0.674509804 0.25882353\n",
            " [9,] 0.768627451 0.898039216 0.00000000\n",
            "[10,] 0.960784314 0.678431373 0.00000000\n",
            "[11,] 0.952941176 0.792156863 0.00000000\n",
            "[12,] 0.772549020 0.819607843 0.20392157\n",
            "[13,] 0.466666667 0.654901961 0.21960784\n",
            "[14,] 0.819607843 0.360784314 0.00000000\n",
            "[15,] 1.000000000 0.301960784 0.00000000\n",
            "[16,] 0.956862745 0.623529412 0.00000000\n",
            "[17,] 0.933333333 0.843137255 0.00000000\n",
            "[18,] 0.909803922 0.964705882 0.00000000\n",
            "[19,] 0.894117647 0.882352941 0.00000000\n",
            "[20,] 0.878431373 0.898039216 0.11372549\n",
            "[21,] 0.866666667 0.901960784 0.26274510\n",
            "[22,] 0.803921569 0.807843137 0.45098039\n",
            "[23,] 0.694117647 0.823529412 0.36078431\n",
            "[24,] 0.847058824 0.666666667 0.00000000\n",
            "[25,] 0.227450980 0.000000000 0.00000000\n",
            "[26,] 0.000000000 0.000000000 0.00000000\n",
            "[27,] 0.000000000 0.000000000 0.00000000\n",
            "[28,] 0.000000000 0.000000000 0.00000000\n"
          ],
          "name": "stdout"
        }
      ]
    },
    {
      "cell_type": "markdown",
      "metadata": {
        "id": "2UJ0_RnvkbQ-",
        "colab_type": "text"
      },
      "source": [
        "## Convert targets/labels to their one-hot encoded equivalent\n",
        "\n",
        "We need to convert the categorical targets into their one-hot encoded values. Keras has a built in function `to_categorical` which does this for you.\n",
        "\n",
        "Further information about the to_categorical function can be found here: https://keras.rstudio.com/reference/to_categorical.html"
      ]
    },
    {
      "cell_type": "code",
      "metadata": {
        "id": "tzmu19wwkbVV",
        "colab_type": "code",
        "colab": {}
      },
      "source": [
        "y_train <- to_categorical(y_train, 10)\n",
        "y_test <- to_categorical(y_test, 10)"
      ],
      "execution_count": 0,
      "outputs": []
    },
    {
      "cell_type": "markdown",
      "metadata": {
        "id": "1P1lFegi9IJz",
        "colab_type": "text"
      },
      "source": [
        "## Verify that the dimensions of the targets are correct\n",
        "\n",
        "In the previous cell we applied one-hot encoding so we need to make sure that the dimension is 10."
      ]
    },
    {
      "cell_type": "code",
      "metadata": {
        "id": "9nPBDm9l9ISu",
        "colab_type": "code",
        "colab": {
          "base_uri": "https://localhost:8080/",
          "height": 79
        },
        "outputId": "ec90d480-5077-406a-80be-89ede7b9f1f6"
      },
      "source": [
        "dim(y_train)"
      ],
      "execution_count": 99,
      "outputs": [
        {
          "output_type": "display_data",
          "data": {
            "text/plain": [
              "[1] 60000    10"
            ],
            "text/latex": "\\begin{enumerate*}\n\\item 60000\n\\item 10\n\\end{enumerate*}\n",
            "text/markdown": "1. 60000\n2. 10\n\n\n",
            "text/html": [
              "<ol class=list-inline>\n",
              "\t<li>60000</li>\n",
              "\t<li>10</li>\n",
              "</ol>\n"
            ]
          },
          "metadata": {
            "tags": []
          }
        }
      ]
    },
    {
      "cell_type": "markdown",
      "metadata": {
        "id": "qthOKREbl0wA",
        "colab_type": "text"
      },
      "source": [
        "## Create a model\n",
        "\n",
        "We specify an input shape of `c(28, 28, 1)`.\n",
        "\n",
        "The architecture is as follows: two convolutional layers, followed by max pooling and dropout, then a fully connected layer with dropout and finally the output fully connected layer. The last layer has 10 units (one for each fashion item - there are 10 items/targets). \n",
        "\n",
        "Note that between the max pooling layer and the first fully connected layer is the flattening operation `layer_flatten()`. This is how we go from convolutional based layers to fully connected ones.\n",
        "\n",
        "Remember that we need to specify the input shape in the first layer of any network in Keras, this is done using `input_shape = ...`. In this case we know that the input is an image of shape 28x28x1 (the last value of 1 is due to the fact that the image is a greyscaled image; a colour image would be 3). "
      ]
    },
    {
      "cell_type": "code",
      "metadata": {
        "id": "Lpe8mJN8UNnk",
        "colab_type": "code",
        "colab": {}
      },
      "source": [
        "model <- keras_model_sequential() %>%\n",
        "  layer_conv_2d(filters = 32, kernel_size = c(3,3), activation = 'relu',input_shape = c(28,28,1)) %>% \n",
        "  layer_conv_2d(filters = 64, kernel_size = c(3,3), activation = 'relu') %>% \n",
        "  layer_max_pooling_2d(pool_size = c(2, 2)) %>% \n",
        "  layer_dropout(rate = 0.25) %>% # The rate denotes the fraction of the input units to drop.\n",
        "  layer_flatten() %>%  # We use the flatten function to go from the CNN structure to the MLP\n",
        "  layer_dense(units = 128, activation = 'relu') %>% # the MLP starts here\n",
        "  layer_dropout(rate = 0.5) %>% # The rate denotes the fraction of the input units to drop.\n",
        "  layer_dense(units = 10, activation = 'softmax') # 10 units because there are 10 targets"
      ],
      "execution_count": 0,
      "outputs": []
    },
    {
      "cell_type": "markdown",
      "metadata": {
        "id": "ap-4xGUvbqCJ",
        "colab_type": "text"
      },
      "source": [
        "## Compile the model"
      ]
    },
    {
      "cell_type": "code",
      "metadata": {
        "id": "TWwCI-yJUylq",
        "colab_type": "code",
        "colab": {}
      },
      "source": [
        "model %>% compile(\n",
        "  loss = loss_categorical_crossentropy,\n",
        "  optimizer = 'adam',\n",
        "  metrics = c('accuracy')\n",
        ")"
      ],
      "execution_count": 0,
      "outputs": []
    },
    {
      "cell_type": "markdown",
      "metadata": {
        "id": "iQGEEfa6bvlu",
        "colab_type": "text"
      },
      "source": [
        "## Early stopping to avoid over-fitting\n",
        "\n",
        "Keras can monitor the validation loss across each epoch. Early stopping allows Keras to stop trainining if the validation loss does not improve over a pre-defined number of epochs (patient parameter). Here we set the patience parameter to 3. This means that Keras will stop training if the validation loss does not improve across 3 epochs."
      ]
    },
    {
      "cell_type": "code",
      "metadata": {
        "id": "Ke_QJs3FXIwO",
        "colab_type": "code",
        "colab": {}
      },
      "source": [
        "# The patience parameter is the amount of epochs to check for improvement.\n",
        "early_stop <- callback_early_stopping(monitor = \"val_loss\", patience = 3)"
      ],
      "execution_count": 0,
      "outputs": []
    },
    {
      "cell_type": "markdown",
      "metadata": {
        "id": "b8UxbwiKbyWP",
        "colab_type": "text"
      },
      "source": [
        "## Train the model\n",
        "\n",
        "Here we specify a very large number of epochs but have early stopping set to 3 epochs.\n",
        "\n",
        "You will notice that the plot will not display data points for 75 epochs and that is because the early stopping prevented the training to continue to help deal with overfitting issues.\n",
        "\n",
        "For training, we need to specify the training features, training targets as well as the number of epochs. It's a good idea to set aside some data for validation as we can tweak our model based on the validation performance."
      ]
    },
    {
      "cell_type": "code",
      "metadata": {
        "id": "5gGCDUXBWzL9",
        "colab_type": "code",
        "colab": {}
      },
      "source": [
        "history <- model %>% fit(\n",
        "  x_train,\n",
        "  y_train,\n",
        "  epochs = 75,\n",
        "  validation_split = 0.2,\n",
        "  verbose = 1,\n",
        "  batch_size = 128,\n",
        "  callbacks = list(early_stop)\n",
        ")"
      ],
      "execution_count": 0,
      "outputs": []
    },
    {
      "cell_type": "markdown",
      "metadata": {
        "id": "lmu7cOgRk2zR",
        "colab_type": "text"
      },
      "source": [
        "### Plot the performance\n",
        "\n",
        "We can see from the plots that the training stops early. We can then go ahead and modify the epochs above and reduce them if we wanted to."
      ]
    },
    {
      "cell_type": "code",
      "metadata": {
        "id": "CuM3-FyUWtqq",
        "colab_type": "code",
        "outputId": "a72e3912-3122-4d5f-d8ab-b3e31832c8a7",
        "colab": {
          "base_uri": "https://localhost:8080/",
          "height": 857
        }
      },
      "source": [
        "plot(history)"
      ],
      "execution_count": 104,
      "outputs": [
        {
          "output_type": "display_data",
          "data": {
            "image/png": "[encoded data removed]",
            "text/plain": [
              "plot without title"
            ]
          },
          "metadata": {
            "tags": []
          }
        }
      ]
    },
    {
      "cell_type": "markdown",
      "metadata": {
        "id": "nxIn0FARk4wh",
        "colab_type": "text"
      },
      "source": [
        "## Evaluate the performance\n",
        "\n",
        "Plug in the testing data and evaluate the performance."
      ]
    },
    {
      "cell_type": "code",
      "metadata": {
        "id": "Gbs8pa6GWtyw",
        "colab_type": "code",
        "outputId": "ebf12d1c-6410-4eac-c059-bb358ba86945",
        "colab": {
          "base_uri": "https://localhost:8080/",
          "height": 113
        }
      },
      "source": [
        "model %>% evaluate(x_test, y_test)"
      ],
      "execution_count": 105,
      "outputs": [
        {
          "output_type": "display_data",
          "data": {
            "text/plain": [
              "$loss\n",
              "[1] 0.2324029\n",
              "\n",
              "$acc\n",
              "[1] 0.9251\n"
            ],
            "text/latex": "\\begin{description}\n\\item[\\$loss] 0.232402943456173\n\\item[\\$acc] 0.925100028514862\n\\end{description}\n",
            "text/markdown": "$loss\n:   0.232402943456173\n$acc\n:   0.925100028514862\n\n\n",
            "text/html": [
              "<dl>\n",
              "\t<dt>$loss</dt>\n",
              "\t\t<dd>0.232402943456173</dd>\n",
              "\t<dt>$acc</dt>\n",
              "\t\t<dd>0.925100028514862</dd>\n",
              "</dl>\n"
            ]
          },
          "metadata": {
            "tags": []
          }
        }
      ]
    },
    {
      "cell_type": "markdown",
      "metadata": {
        "id": "gtmEy1S6AsSK",
        "colab_type": "text"
      },
      "source": [
        "## Note\n",
        "\n",
        "Note that if you want to re-train a model you have to execute the cells which create the model, re-compile it, and then only call the fit function. If you call the fit function several times (without re-creating the model), Keras will resume training from the previous state of the weights. By re-executing the cells which create the model Keras re-initialises the weights to random values."
      ]
    },
    {
      "cell_type": "markdown",
      "metadata": {
        "id": "bq1kVzJGB3xp",
        "colab_type": "text"
      },
      "source": [
        "## Prediction\n",
        "\n",
        "To predict on the entire test data we can use the following"
      ]
    },
    {
      "cell_type": "code",
      "metadata": {
        "id": "ZJayHn6f_-yN",
        "colab_type": "code",
        "colab": {}
      },
      "source": [
        "predictions <- model %>% predict(x_test)"
      ],
      "execution_count": 0,
      "outputs": []
    },
    {
      "cell_type": "markdown",
      "metadata": {
        "id": "nmsAojYyB4P9",
        "colab_type": "text"
      },
      "source": [
        "Let's view the prediction for an example (test example 14). We can see that the model is quite confident that the test image corresponds to the 4th class with a softmax value of 0.99."
      ]
    },
    {
      "cell_type": "code",
      "metadata": {
        "id": "kbIjCcrRBgMt",
        "colab_type": "code",
        "colab": {
          "base_uri": "https://localhost:8080/",
          "height": 215
        },
        "outputId": "8263b5e9-36e0-437e-94f8-d9b51544f63f"
      },
      "source": [
        "predictions[14,]"
      ],
      "execution_count": 107,
      "outputs": [
        {
          "output_type": "display_data",
          "data": {
            "text/plain": [
              " [1] 6.278869e-07 3.272211e-07 7.682037e-10 9.999990e-01 2.801068e-09\n",
              " [6] 1.866228e-12 1.376141e-08 3.079999e-13 1.444300e-09 1.234831e-12"
            ],
            "text/latex": "\\begin{enumerate*}\n\\item 6.27886947768275e-07\n\\item 3.27221130191901e-07\n\\item 7.68203722856242e-10\n\\item 0.999999046325684\n\\item 2.80106804417812e-09\n\\item 1.86622765852018e-12\n\\item 1.37614097894811e-08\n\\item 3.07999936319248e-13\n\\item 1.4442996798536e-09\n\\item 1.23483113925044e-12\n\\end{enumerate*}\n",
            "text/markdown": "1. 6.27886947768275e-07\n2. 3.27221130191901e-07\n3. 7.68203722856242e-10\n4. 0.999999046325684\n5. 2.80106804417812e-09\n6. 1.86622765852018e-12\n7. 1.37614097894811e-08\n8. 3.07999936319248e-13\n9. 1.4442996798536e-09\n10. 1.23483113925044e-12\n\n\n",
            "text/html": [
              "<ol class=list-inline>\n",
              "\t<li>6.27886947768275e-07</li>\n",
              "\t<li>3.27221130191901e-07</li>\n",
              "\t<li>7.68203722856242e-10</li>\n",
              "\t<li>0.999999046325684</li>\n",
              "\t<li>2.80106804417812e-09</li>\n",
              "\t<li>1.86622765852018e-12</li>\n",
              "\t<li>1.37614097894811e-08</li>\n",
              "\t<li>3.07999936319248e-13</li>\n",
              "\t<li>1.4442996798536e-09</li>\n",
              "\t<li>1.23483113925044e-12</li>\n",
              "</ol>\n"
            ]
          },
          "metadata": {
            "tags": []
          }
        }
      ]
    },
    {
      "cell_type": "markdown",
      "metadata": {
        "id": "uHkvceJRCUCj",
        "colab_type": "text"
      },
      "source": [
        "However, we might want to view the actual class prediction as opposed to probabilities. Below we illustrate how to obtain the actual class prediction for a test image (test example 14)."
      ]
    },
    {
      "cell_type": "code",
      "metadata": {
        "id": "dz3XXYCEBlsg",
        "colab_type": "code",
        "colab": {
          "base_uri": "https://localhost:8080/",
          "height": 34
        },
        "outputId": "e380cd51-e61e-4473-b244-82dd5d2626de"
      },
      "source": [
        "which.max(predictions[14, ])"
      ],
      "execution_count": 108,
      "outputs": [
        {
          "output_type": "display_data",
          "data": {
            "text/plain": [
              "[1] 4"
            ],
            "text/latex": "4",
            "text/markdown": "4",
            "text/html": [
              "4"
            ]
          },
          "metadata": {
            "tags": []
          }
        }
      ]
    },
    {
      "cell_type": "markdown",
      "metadata": {
        "id": "_QkmDb7BOF8L",
        "colab_type": "text"
      },
      "source": [
        "## Can you improve the performance on the test data by modifying the network?"
      ]
    },
    {
      "cell_type": "code",
      "metadata": {
        "id": "8mi7GdKICRcj",
        "colab_type": "code",
        "colab": {}
      },
      "source": [
        ""
      ],
      "execution_count": 0,
      "outputs": []
    }
  ]
}