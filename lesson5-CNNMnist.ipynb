{
  "nbformat": 4,
  "nbformat_minor": 0,
  "metadata": {
    "kernelspec": {
      "display_name": "R",
      "language": "R",
      "name": "ir"
    },
    "language_info": {
      "codemirror_mode": "r",
      "file_extension": ".r",
      "mimetype": "text/x-r-source",
      "name": "R",
      "pygments_lexer": "r",
      "version": "3.3.1"
    },
    "colab": {
      "name": "UCT2019-CNNMnist_R.ipynb",
      "version": "0.3.2",
      "provenance": [],
      "collapsed_sections": []
    },
    "accelerator": "GPU"
  },
  "cells": [
    {
      "cell_type": "markdown",
      "metadata": {
        "id": "YS9FclBXnTZL",
        "colab_type": "text"
      },
      "source": [
        "***Dr. Emmanuel Dufourq*** www.emmanueldufourq.com\n",
        "\n",
        "***African Institute for Mathematical Sciences***\n",
        "\n",
        "***2019***\n",
        "\n",
        "\n",
        "Credits: The data imports were extracted from https://keras.rstudio.com/articles/examples/mnist_cnn.html\n",
        "\n",
        "***NOTE***\n",
        "\n",
        "Be sure to use hardware acceleration to use the GPU. Click on `Runtime`, change `runtime type`, and select `GPU` for the *hardware accelerator* option."
      ]
    },
    {
      "cell_type": "code",
      "metadata": {
        "id": "fdUuuxhRiXzg",
        "colab_type": "code",
        "outputId": "f56753ab-4509-487f-c1d3-1d95e148efaa",
        "colab": {
          "base_uri": "https://localhost:8080/",
          "height": 51
        }
      },
      "source": [
        "devtools::install_github(\"rstudio/keras\")"
      ],
      "execution_count": 1,
      "outputs": [
        {
          "output_type": "stream",
          "text": [
            "Skipping install of 'keras' from a github remote, the SHA1 (34dc89ed) has not changed since last install.\n",
            "  Use `force = TRUE` to force installation\n"
          ],
          "name": "stderr"
        }
      ]
    },
    {
      "cell_type": "markdown",
      "metadata": {
        "id": "fQteA-lKkVo-",
        "colab_type": "text"
      },
      "source": [
        "## Import the Keras library"
      ]
    },
    {
      "cell_type": "code",
      "metadata": {
        "id": "_iMaChtciX8e",
        "colab_type": "code",
        "colab": {}
      },
      "source": [
        "library(keras)"
      ],
      "execution_count": 0,
      "outputs": []
    },
    {
      "cell_type": "markdown",
      "metadata": {
        "id": "XP5Uf7XsAQ3e",
        "colab_type": "text"
      },
      "source": [
        "## Load the MNIST dataset"
      ]
    },
    {
      "cell_type": "code",
      "metadata": {
        "id": "XGk3t9776WoU",
        "colab_type": "code",
        "colab": {}
      },
      "source": [
        "mnist <- dataset_mnist()"
      ],
      "execution_count": 0,
      "outputs": []
    },
    {
      "cell_type": "markdown",
      "metadata": {
        "id": "nB2p8bUSjTez",
        "colab_type": "text"
      },
      "source": [
        "## Load features"
      ]
    },
    {
      "cell_type": "code",
      "metadata": {
        "id": "Th0mYc28jTjS",
        "colab_type": "code",
        "colab": {}
      },
      "source": [
        "x_train <- mnist$train$x\n",
        "x_test <- mnist$test$x\n"
      ],
      "execution_count": 0,
      "outputs": []
    },
    {
      "cell_type": "markdown",
      "metadata": {
        "id": "ibdk4invjRlb",
        "colab_type": "text"
      },
      "source": [
        "## Load targets"
      ]
    },
    {
      "cell_type": "code",
      "metadata": {
        "id": "EBbgDsqAjRts",
        "colab_type": "code",
        "colab": {}
      },
      "source": [
        "y_train <- mnist$train$y\n",
        "y_test <- mnist$test$y"
      ],
      "execution_count": 0,
      "outputs": []
    },
    {
      "cell_type": "markdown",
      "metadata": {
        "id": "4YUwKP2fI1hy",
        "colab_type": "text"
      },
      "source": [
        "## Check dimension"
      ]
    },
    {
      "cell_type": "code",
      "metadata": {
        "id": "-XfY_xQrI1mH",
        "colab_type": "code",
        "outputId": "04551fbc-5567-4cb9-d69e-a7f17cb8ac2a",
        "colab": {
          "base_uri": "https://localhost:8080/",
          "height": 96
        }
      },
      "source": [
        "dim(x_train)"
      ],
      "execution_count": 6,
      "outputs": [
        {
          "output_type": "display_data",
          "data": {
            "text/plain": [
              "[1] 60000    28    28"
            ],
            "text/latex": "\\begin{enumerate*}\n\\item 60000\n\\item 28\n\\item 28\n\\end{enumerate*}\n",
            "text/markdown": "1. 60000\n2. 28\n3. 28\n\n\n",
            "text/html": [
              "<ol class=list-inline>\n",
              "\t<li>60000</li>\n",
              "\t<li>28</li>\n",
              "\t<li>28</li>\n",
              "</ol>\n"
            ]
          },
          "metadata": {
            "tags": []
          }
        }
      ]
    },
    {
      "cell_type": "markdown",
      "metadata": {
        "id": "rF_VUlRMIDl5",
        "colab_type": "text"
      },
      "source": [
        "## Reshape\n",
        "\n",
        "Keras wants the dimension for CNNs to be the following: [batches, width, height, channels] so we need to reshape the data by adding the channel dimension."
      ]
    },
    {
      "cell_type": "code",
      "metadata": {
        "id": "25KoZ4FwIDt3",
        "colab_type": "code",
        "colab": {}
      },
      "source": [
        "x_train <- array_reshape(x_train, c(nrow(x_train), 28, 28, 1))\n",
        "x_test <- array_reshape(x_test, c(nrow(x_test), 28, 28, 1))"
      ],
      "execution_count": 0,
      "outputs": []
    },
    {
      "cell_type": "markdown",
      "metadata": {
        "id": "7bZHFjjSJd0o",
        "colab_type": "text"
      },
      "source": [
        "## Take a look at a  training example\n",
        "\n",
        "The dimension is correct but take a look at the values in the data point. The values are large, between 0 and 255. Thus we will need to normalise the values."
      ]
    },
    {
      "cell_type": "code",
      "metadata": {
        "id": "KMJgcAncJd98",
        "colab_type": "code",
        "outputId": "c5de02d5-0b57-4fb0-9cfc-d829f9e75d75",
        "colab": {
          "base_uri": "https://localhost:8080/",
          "height": 79
        }
      },
      "source": [
        "dim(x_train[1,,,])"
      ],
      "execution_count": 8,
      "outputs": [
        {
          "output_type": "display_data",
          "data": {
            "text/plain": [
              "[1] 28 28"
            ],
            "text/latex": "\\begin{enumerate*}\n\\item 28\n\\item 28\n\\end{enumerate*}\n",
            "text/markdown": "1. 28\n2. 28\n\n\n",
            "text/html": [
              "<ol class=list-inline>\n",
              "\t<li>28</li>\n",
              "\t<li>28</li>\n",
              "</ol>\n"
            ]
          },
          "metadata": {
            "tags": []
          }
        }
      ]
    },
    {
      "cell_type": "code",
      "metadata": {
        "id": "7OuQ7eyFJKqB",
        "colab_type": "code",
        "outputId": "f5fe5ae9-eecd-4ccc-c868-bf701eea6a02",
        "colab": {
          "base_uri": "https://localhost:8080/",
          "height": 1000
        }
      },
      "source": [
        "print(x_train[1,,,1])"
      ],
      "execution_count": 9,
      "outputs": [
        {
          "output_type": "stream",
          "text": [
            "      [,1] [,2] [,3] [,4] [,5] [,6] [,7] [,8] [,9] [,10] [,11] [,12] [,13]\n",
            " [1,]    0    0    0    0    0    0    0    0    0     0     0     0     0\n",
            " [2,]    0    0    0    0    0    0    0    0    0     0     0     0     0\n",
            " [3,]    0    0    0    0    0    0    0    0    0     0     0     0     0\n",
            " [4,]    0    0    0    0    0    0    0    0    0     0     0     0     0\n",
            " [5,]    0    0    0    0    0    0    0    0    0     0     0     0     0\n",
            " [6,]    0    0    0    0    0    0    0    0    0     0     0     0     3\n",
            " [7,]    0    0    0    0    0    0    0    0   30    36    94   154   170\n",
            " [8,]    0    0    0    0    0    0    0   49  238   253   253   253   253\n",
            " [9,]    0    0    0    0    0    0    0   18  219   253   253   253   253\n",
            "[10,]    0    0    0    0    0    0    0    0   80   156   107   253   253\n",
            "[11,]    0    0    0    0    0    0    0    0    0    14     1   154   253\n",
            "[12,]    0    0    0    0    0    0    0    0    0     0     0   139   253\n",
            "[13,]    0    0    0    0    0    0    0    0    0     0     0    11   190\n",
            "[14,]    0    0    0    0    0    0    0    0    0     0     0     0    35\n",
            "[15,]    0    0    0    0    0    0    0    0    0     0     0     0     0\n",
            "[16,]    0    0    0    0    0    0    0    0    0     0     0     0     0\n",
            "[17,]    0    0    0    0    0    0    0    0    0     0     0     0     0\n",
            "[18,]    0    0    0    0    0    0    0    0    0     0     0     0     0\n",
            "[19,]    0    0    0    0    0    0    0    0    0     0     0     0     0\n",
            "[20,]    0    0    0    0    0    0    0    0    0     0     0     0    39\n",
            "[21,]    0    0    0    0    0    0    0    0    0     0    24   114   221\n",
            "[22,]    0    0    0    0    0    0    0    0   23    66   213   253   253\n",
            "[23,]    0    0    0    0    0    0   18  171  219   253   253   253   253\n",
            "[24,]    0    0    0    0   55  172  226  253  253   253   253   244   133\n",
            "[25,]    0    0    0    0  136  253  253  253  212   135   132    16     0\n",
            "[26,]    0    0    0    0    0    0    0    0    0     0     0     0     0\n",
            "[27,]    0    0    0    0    0    0    0    0    0     0     0     0     0\n",
            "[28,]    0    0    0    0    0    0    0    0    0     0     0     0     0\n",
            "      [,14] [,15] [,16] [,17] [,18] [,19] [,20] [,21] [,22] [,23] [,24] [,25]\n",
            " [1,]     0     0     0     0     0     0     0     0     0     0     0     0\n",
            " [2,]     0     0     0     0     0     0     0     0     0     0     0     0\n",
            " [3,]     0     0     0     0     0     0     0     0     0     0     0     0\n",
            " [4,]     0     0     0     0     0     0     0     0     0     0     0     0\n",
            " [5,]     0     0     0     0     0     0     0     0     0     0     0     0\n",
            " [6,]    18    18    18   126   136   175    26   166   255   247   127     0\n",
            " [7,]   253   253   253   253   253   225   172   253   242   195    64     0\n",
            " [8,]   253   253   253   253   251    93    82    82    56    39     0     0\n",
            " [9,]   253   198   182   247   241     0     0     0     0     0     0     0\n",
            "[10,]   205    11     0    43   154     0     0     0     0     0     0     0\n",
            "[11,]    90     0     0     0     0     0     0     0     0     0     0     0\n",
            "[12,]   190     2     0     0     0     0     0     0     0     0     0     0\n",
            "[13,]   253    70     0     0     0     0     0     0     0     0     0     0\n",
            "[14,]   241   225   160   108     1     0     0     0     0     0     0     0\n",
            "[15,]    81   240   253   253   119    25     0     0     0     0     0     0\n",
            "[16,]     0    45   186   253   253   150    27     0     0     0     0     0\n",
            "[17,]     0     0    16    93   252   253   187     0     0     0     0     0\n",
            "[18,]     0     0     0     0   249   253   249    64     0     0     0     0\n",
            "[19,]     0    46   130   183   253   253   207     2     0     0     0     0\n",
            "[20,]   148   229   253   253   253   250   182     0     0     0     0     0\n",
            "[21,]   253   253   253   253   201    78     0     0     0     0     0     0\n",
            "[22,]   253   253   198    81     2     0     0     0     0     0     0     0\n",
            "[23,]   195    80     9     0     0     0     0     0     0     0     0     0\n",
            "[24,]    11     0     0     0     0     0     0     0     0     0     0     0\n",
            "[25,]     0     0     0     0     0     0     0     0     0     0     0     0\n",
            "[26,]     0     0     0     0     0     0     0     0     0     0     0     0\n",
            "[27,]     0     0     0     0     0     0     0     0     0     0     0     0\n",
            "[28,]     0     0     0     0     0     0     0     0     0     0     0     0\n",
            "      [,26] [,27] [,28]\n",
            " [1,]     0     0     0\n",
            " [2,]     0     0     0\n",
            " [3,]     0     0     0\n",
            " [4,]     0     0     0\n",
            " [5,]     0     0     0\n",
            " [6,]     0     0     0\n",
            " [7,]     0     0     0\n",
            " [8,]     0     0     0\n",
            " [9,]     0     0     0\n",
            "[10,]     0     0     0\n",
            "[11,]     0     0     0\n",
            "[12,]     0     0     0\n",
            "[13,]     0     0     0\n",
            "[14,]     0     0     0\n",
            "[15,]     0     0     0\n",
            "[16,]     0     0     0\n",
            "[17,]     0     0     0\n",
            "[18,]     0     0     0\n",
            "[19,]     0     0     0\n",
            "[20,]     0     0     0\n",
            "[21,]     0     0     0\n",
            "[22,]     0     0     0\n",
            "[23,]     0     0     0\n",
            "[24,]     0     0     0\n",
            "[25,]     0     0     0\n",
            "[26,]     0     0     0\n",
            "[27,]     0     0     0\n",
            "[28,]     0     0     0\n"
          ],
          "name": "stdout"
        }
      ]
    },
    {
      "cell_type": "markdown",
      "metadata": {
        "id": "25rl1ReBLJVY",
        "colab_type": "text"
      },
      "source": [
        "## Normalise"
      ]
    },
    {
      "cell_type": "code",
      "metadata": {
        "id": "-b-wMlDSKyYK",
        "colab_type": "code",
        "colab": {}
      },
      "source": [
        "x_train <- x_train / 255\n",
        "x_test <- x_test / 255"
      ],
      "execution_count": 0,
      "outputs": []
    },
    {
      "cell_type": "markdown",
      "metadata": {
        "id": "VNa9k3I6LO5S",
        "colab_type": "text"
      },
      "source": [
        "Now we can check the values. This looks better and is suitable for a CNN."
      ]
    },
    {
      "cell_type": "code",
      "metadata": {
        "id": "8T1veQYrLI5G",
        "colab_type": "code",
        "outputId": "589f6589-b86f-4590-895e-79f6a903c433",
        "colab": {
          "base_uri": "https://localhost:8080/",
          "height": 1000
        }
      },
      "source": [
        "print(x_train[1,,,1])"
      ],
      "execution_count": 11,
      "outputs": [
        {
          "output_type": "stream",
          "text": [
            "      [,1] [,2] [,3] [,4]      [,5]      [,6]       [,7]       [,8]       [,9]\n",
            " [1,]    0    0    0    0 0.0000000 0.0000000 0.00000000 0.00000000 0.00000000\n",
            " [2,]    0    0    0    0 0.0000000 0.0000000 0.00000000 0.00000000 0.00000000\n",
            " [3,]    0    0    0    0 0.0000000 0.0000000 0.00000000 0.00000000 0.00000000\n",
            " [4,]    0    0    0    0 0.0000000 0.0000000 0.00000000 0.00000000 0.00000000\n",
            " [5,]    0    0    0    0 0.0000000 0.0000000 0.00000000 0.00000000 0.00000000\n",
            " [6,]    0    0    0    0 0.0000000 0.0000000 0.00000000 0.00000000 0.00000000\n",
            " [7,]    0    0    0    0 0.0000000 0.0000000 0.00000000 0.00000000 0.11764706\n",
            " [8,]    0    0    0    0 0.0000000 0.0000000 0.00000000 0.19215686 0.93333333\n",
            " [9,]    0    0    0    0 0.0000000 0.0000000 0.00000000 0.07058824 0.85882353\n",
            "[10,]    0    0    0    0 0.0000000 0.0000000 0.00000000 0.00000000 0.31372549\n",
            "[11,]    0    0    0    0 0.0000000 0.0000000 0.00000000 0.00000000 0.00000000\n",
            "[12,]    0    0    0    0 0.0000000 0.0000000 0.00000000 0.00000000 0.00000000\n",
            "[13,]    0    0    0    0 0.0000000 0.0000000 0.00000000 0.00000000 0.00000000\n",
            "[14,]    0    0    0    0 0.0000000 0.0000000 0.00000000 0.00000000 0.00000000\n",
            "[15,]    0    0    0    0 0.0000000 0.0000000 0.00000000 0.00000000 0.00000000\n",
            "[16,]    0    0    0    0 0.0000000 0.0000000 0.00000000 0.00000000 0.00000000\n",
            "[17,]    0    0    0    0 0.0000000 0.0000000 0.00000000 0.00000000 0.00000000\n",
            "[18,]    0    0    0    0 0.0000000 0.0000000 0.00000000 0.00000000 0.00000000\n",
            "[19,]    0    0    0    0 0.0000000 0.0000000 0.00000000 0.00000000 0.00000000\n",
            "[20,]    0    0    0    0 0.0000000 0.0000000 0.00000000 0.00000000 0.00000000\n",
            "[21,]    0    0    0    0 0.0000000 0.0000000 0.00000000 0.00000000 0.00000000\n",
            "[22,]    0    0    0    0 0.0000000 0.0000000 0.00000000 0.00000000 0.09019608\n",
            "[23,]    0    0    0    0 0.0000000 0.0000000 0.07058824 0.67058824 0.85882353\n",
            "[24,]    0    0    0    0 0.2156863 0.6745098 0.88627451 0.99215686 0.99215686\n",
            "[25,]    0    0    0    0 0.5333333 0.9921569 0.99215686 0.99215686 0.83137255\n",
            "[26,]    0    0    0    0 0.0000000 0.0000000 0.00000000 0.00000000 0.00000000\n",
            "[27,]    0    0    0    0 0.0000000 0.0000000 0.00000000 0.00000000 0.00000000\n",
            "[28,]    0    0    0    0 0.0000000 0.0000000 0.00000000 0.00000000 0.00000000\n",
            "           [,10]       [,11]      [,12]      [,13]      [,14]       [,15]\n",
            " [1,] 0.00000000 0.000000000 0.00000000 0.00000000 0.00000000 0.000000000\n",
            " [2,] 0.00000000 0.000000000 0.00000000 0.00000000 0.00000000 0.000000000\n",
            " [3,] 0.00000000 0.000000000 0.00000000 0.00000000 0.00000000 0.000000000\n",
            " [4,] 0.00000000 0.000000000 0.00000000 0.00000000 0.00000000 0.000000000\n",
            " [5,] 0.00000000 0.000000000 0.00000000 0.00000000 0.00000000 0.000000000\n",
            " [6,] 0.00000000 0.000000000 0.00000000 0.01176471 0.07058824 0.070588235\n",
            " [7,] 0.14117647 0.368627451 0.60392157 0.66666667 0.99215686 0.992156863\n",
            " [8,] 0.99215686 0.992156863 0.99215686 0.99215686 0.99215686 0.992156863\n",
            " [9,] 0.99215686 0.992156863 0.99215686 0.99215686 0.99215686 0.776470588\n",
            "[10,] 0.61176471 0.419607843 0.99215686 0.99215686 0.80392157 0.043137255\n",
            "[11,] 0.05490196 0.003921569 0.60392157 0.99215686 0.35294118 0.000000000\n",
            "[12,] 0.00000000 0.000000000 0.54509804 0.99215686 0.74509804 0.007843137\n",
            "[13,] 0.00000000 0.000000000 0.04313725 0.74509804 0.99215686 0.274509804\n",
            "[14,] 0.00000000 0.000000000 0.00000000 0.13725490 0.94509804 0.882352941\n",
            "[15,] 0.00000000 0.000000000 0.00000000 0.00000000 0.31764706 0.941176471\n",
            "[16,] 0.00000000 0.000000000 0.00000000 0.00000000 0.00000000 0.176470588\n",
            "[17,] 0.00000000 0.000000000 0.00000000 0.00000000 0.00000000 0.000000000\n",
            "[18,] 0.00000000 0.000000000 0.00000000 0.00000000 0.00000000 0.000000000\n",
            "[19,] 0.00000000 0.000000000 0.00000000 0.00000000 0.00000000 0.180392157\n",
            "[20,] 0.00000000 0.000000000 0.00000000 0.15294118 0.58039216 0.898039216\n",
            "[21,] 0.00000000 0.094117647 0.44705882 0.86666667 0.99215686 0.992156863\n",
            "[22,] 0.25882353 0.835294118 0.99215686 0.99215686 0.99215686 0.992156863\n",
            "[23,] 0.99215686 0.992156863 0.99215686 0.99215686 0.76470588 0.313725490\n",
            "[24,] 0.99215686 0.992156863 0.95686275 0.52156863 0.04313725 0.000000000\n",
            "[25,] 0.52941176 0.517647059 0.06274510 0.00000000 0.00000000 0.000000000\n",
            "[26,] 0.00000000 0.000000000 0.00000000 0.00000000 0.00000000 0.000000000\n",
            "[27,] 0.00000000 0.000000000 0.00000000 0.00000000 0.00000000 0.000000000\n",
            "[28,] 0.00000000 0.000000000 0.00000000 0.00000000 0.00000000 0.000000000\n",
            "           [,16]     [,17]       [,18]      [,19]     [,20]       [,21]\n",
            " [1,] 0.00000000 0.0000000 0.000000000 0.00000000 0.0000000 0.000000000\n",
            " [2,] 0.00000000 0.0000000 0.000000000 0.00000000 0.0000000 0.000000000\n",
            " [3,] 0.00000000 0.0000000 0.000000000 0.00000000 0.0000000 0.000000000\n",
            " [4,] 0.00000000 0.0000000 0.000000000 0.00000000 0.0000000 0.000000000\n",
            " [5,] 0.00000000 0.0000000 0.000000000 0.00000000 0.0000000 0.000000000\n",
            " [6,] 0.07058824 0.4941176 0.533333333 0.68627451 0.1019608 0.650980392\n",
            " [7,] 0.99215686 0.9921569 0.992156863 0.88235294 0.6745098 0.992156863\n",
            " [8,] 0.99215686 0.9921569 0.984313725 0.36470588 0.3215686 0.321568627\n",
            " [9,] 0.71372549 0.9686275 0.945098039 0.00000000 0.0000000 0.000000000\n",
            "[10,] 0.00000000 0.1686275 0.603921569 0.00000000 0.0000000 0.000000000\n",
            "[11,] 0.00000000 0.0000000 0.000000000 0.00000000 0.0000000 0.000000000\n",
            "[12,] 0.00000000 0.0000000 0.000000000 0.00000000 0.0000000 0.000000000\n",
            "[13,] 0.00000000 0.0000000 0.000000000 0.00000000 0.0000000 0.000000000\n",
            "[14,] 0.62745098 0.4235294 0.003921569 0.00000000 0.0000000 0.000000000\n",
            "[15,] 0.99215686 0.9921569 0.466666667 0.09803922 0.0000000 0.000000000\n",
            "[16,] 0.72941176 0.9921569 0.992156863 0.58823529 0.1058824 0.000000000\n",
            "[17,] 0.06274510 0.3647059 0.988235294 0.99215686 0.7333333 0.000000000\n",
            "[18,] 0.00000000 0.0000000 0.976470588 0.99215686 0.9764706 0.250980392\n",
            "[19,] 0.50980392 0.7176471 0.992156863 0.99215686 0.8117647 0.007843137\n",
            "[20,] 0.99215686 0.9921569 0.992156863 0.98039216 0.7137255 0.000000000\n",
            "[21,] 0.99215686 0.9921569 0.788235294 0.30588235 0.0000000 0.000000000\n",
            "[22,] 0.77647059 0.3176471 0.007843137 0.00000000 0.0000000 0.000000000\n",
            "[23,] 0.03529412 0.0000000 0.000000000 0.00000000 0.0000000 0.000000000\n",
            "[24,] 0.00000000 0.0000000 0.000000000 0.00000000 0.0000000 0.000000000\n",
            "[25,] 0.00000000 0.0000000 0.000000000 0.00000000 0.0000000 0.000000000\n",
            "[26,] 0.00000000 0.0000000 0.000000000 0.00000000 0.0000000 0.000000000\n",
            "[27,] 0.00000000 0.0000000 0.000000000 0.00000000 0.0000000 0.000000000\n",
            "[28,] 0.00000000 0.0000000 0.000000000 0.00000000 0.0000000 0.000000000\n",
            "          [,22]     [,23]     [,24] [,25] [,26] [,27] [,28]\n",
            " [1,] 0.0000000 0.0000000 0.0000000     0     0     0     0\n",
            " [2,] 0.0000000 0.0000000 0.0000000     0     0     0     0\n",
            " [3,] 0.0000000 0.0000000 0.0000000     0     0     0     0\n",
            " [4,] 0.0000000 0.0000000 0.0000000     0     0     0     0\n",
            " [5,] 0.0000000 0.0000000 0.0000000     0     0     0     0\n",
            " [6,] 1.0000000 0.9686275 0.4980392     0     0     0     0\n",
            " [7,] 0.9490196 0.7647059 0.2509804     0     0     0     0\n",
            " [8,] 0.2196078 0.1529412 0.0000000     0     0     0     0\n",
            " [9,] 0.0000000 0.0000000 0.0000000     0     0     0     0\n",
            "[10,] 0.0000000 0.0000000 0.0000000     0     0     0     0\n",
            "[11,] 0.0000000 0.0000000 0.0000000     0     0     0     0\n",
            "[12,] 0.0000000 0.0000000 0.0000000     0     0     0     0\n",
            "[13,] 0.0000000 0.0000000 0.0000000     0     0     0     0\n",
            "[14,] 0.0000000 0.0000000 0.0000000     0     0     0     0\n",
            "[15,] 0.0000000 0.0000000 0.0000000     0     0     0     0\n",
            "[16,] 0.0000000 0.0000000 0.0000000     0     0     0     0\n",
            "[17,] 0.0000000 0.0000000 0.0000000     0     0     0     0\n",
            "[18,] 0.0000000 0.0000000 0.0000000     0     0     0     0\n",
            "[19,] 0.0000000 0.0000000 0.0000000     0     0     0     0\n",
            "[20,] 0.0000000 0.0000000 0.0000000     0     0     0     0\n",
            "[21,] 0.0000000 0.0000000 0.0000000     0     0     0     0\n",
            "[22,] 0.0000000 0.0000000 0.0000000     0     0     0     0\n",
            "[23,] 0.0000000 0.0000000 0.0000000     0     0     0     0\n",
            "[24,] 0.0000000 0.0000000 0.0000000     0     0     0     0\n",
            "[25,] 0.0000000 0.0000000 0.0000000     0     0     0     0\n",
            "[26,] 0.0000000 0.0000000 0.0000000     0     0     0     0\n",
            "[27,] 0.0000000 0.0000000 0.0000000     0     0     0     0\n",
            "[28,] 0.0000000 0.0000000 0.0000000     0     0     0     0\n"
          ],
          "name": "stdout"
        }
      ]
    },
    {
      "cell_type": "markdown",
      "metadata": {
        "id": "2UJ0_RnvkbQ-",
        "colab_type": "text"
      },
      "source": [
        "## Convert targets/labels to their one-hot encoded equivalent"
      ]
    },
    {
      "cell_type": "code",
      "metadata": {
        "id": "tzmu19wwkbVV",
        "colab_type": "code",
        "colab": {}
      },
      "source": [
        "y_train <- to_categorical(y_train, 10)\n",
        "y_test <- to_categorical(y_test, 10)"
      ],
      "execution_count": 0,
      "outputs": []
    },
    {
      "cell_type": "markdown",
      "metadata": {
        "id": "qthOKREbl0wA",
        "colab_type": "text"
      },
      "source": [
        "## Create a model\n",
        "\n",
        "We specify an input shape of `c(28, 28, 1)`.\n",
        "\n",
        "The architecture is as follows: two convolutional layers, followed by max pooling and dropout, then a fully connected layer with dropout and finally the output fully connected layer. The last layer has 10 units (one for each digit 0 to 9). Note that between the max pooling layer and the first fully connected layer is the flattening operation `layer_flatten()`. This is how we go from convolutional based layers to fully connected ones."
      ]
    },
    {
      "cell_type": "code",
      "metadata": {
        "id": "Lpe8mJN8UNnk",
        "colab_type": "code",
        "colab": {}
      },
      "source": [
        "model <- keras_model_sequential() %>%\n",
        "  layer_conv_2d(filters = 32, kernel_size = c(3,3), activation = 'relu',input_shape = c(28,28,1)) %>% \n",
        "  layer_conv_2d(filters = 64, kernel_size = c(3,3), activation = 'relu') %>% \n",
        "  layer_max_pooling_2d(pool_size = c(2, 2)) %>% \n",
        "  layer_dropout(rate = 0.25) %>% \n",
        "  layer_flatten() %>%  # We use the flatten function to go from the CNN structure to the MLP\n",
        "  layer_dense(units = 128, activation = 'relu') %>% # the MLP starts here\n",
        "  layer_dropout(rate = 0.5) %>% \n",
        "  layer_dense(units = 10, activation = 'softmax')"
      ],
      "execution_count": 0,
      "outputs": []
    },
    {
      "cell_type": "markdown",
      "metadata": {
        "id": "ap-4xGUvbqCJ",
        "colab_type": "text"
      },
      "source": [
        "## Compile the model"
      ]
    },
    {
      "cell_type": "code",
      "metadata": {
        "id": "TWwCI-yJUylq",
        "colab_type": "code",
        "colab": {}
      },
      "source": [
        "model %>% compile(\n",
        "  loss = loss_categorical_crossentropy,\n",
        "  optimizer = optimizer_adadelta(),\n",
        "  metrics = c('accuracy')\n",
        ")"
      ],
      "execution_count": 0,
      "outputs": []
    },
    {
      "cell_type": "markdown",
      "metadata": {
        "id": "IMAd3c8zbsNu",
        "colab_type": "text"
      },
      "source": [
        "## Allow printing to the screen"
      ]
    },
    {
      "cell_type": "code",
      "metadata": {
        "id": "sKi3HWp7WrUI",
        "colab_type": "code",
        "colab": {}
      },
      "source": [
        "print_dot_callback <- callback_lambda(\n",
        "  on_epoch_end = function(epoch, logs) {\n",
        "    if (epoch %% 2 == 0) cat(epoch, '\\n')\n",
        "  }\n",
        ")   "
      ],
      "execution_count": 0,
      "outputs": []
    },
    {
      "cell_type": "markdown",
      "metadata": {
        "id": "iQGEEfa6bvlu",
        "colab_type": "text"
      },
      "source": [
        "## Early stopping to avoid over-fitting"
      ]
    },
    {
      "cell_type": "code",
      "metadata": {
        "id": "Ke_QJs3FXIwO",
        "colab_type": "code",
        "colab": {}
      },
      "source": [
        "# The patience parameter is the amount of epochs to check for improvement.\n",
        "early_stop <- callback_early_stopping(monitor = \"val_loss\", patience = 6)"
      ],
      "execution_count": 0,
      "outputs": []
    },
    {
      "cell_type": "markdown",
      "metadata": {
        "id": "b8UxbwiKbyWP",
        "colab_type": "text"
      },
      "source": [
        "## Train the model"
      ]
    },
    {
      "cell_type": "code",
      "metadata": {
        "id": "5gGCDUXBWzL9",
        "colab_type": "code",
        "outputId": "3dd6d55b-091c-4517-a847-7ad0c29c1e11",
        "colab": {
          "base_uri": "https://localhost:8080/",
          "height": 136
        }
      },
      "source": [
        "history <- model %>% fit(\n",
        "  x_train,\n",
        "  y_train,\n",
        "  epochs = 14,\n",
        "  validation_split = 0.2,\n",
        "  verbose = 0,\n",
        "  batch_size = 128,\n",
        "  callbacks = list(early_stop, print_dot_callback)\n",
        ")"
      ],
      "execution_count": 17,
      "outputs": [
        {
          "output_type": "stream",
          "text": [
            "0 \n",
            "2 \n",
            "4 \n",
            "6 \n",
            "8 \n",
            "10 \n",
            "12 \n"
          ],
          "name": "stdout"
        }
      ]
    },
    {
      "cell_type": "markdown",
      "metadata": {
        "id": "lmu7cOgRk2zR",
        "colab_type": "text"
      },
      "source": [
        "### Plot the performance"
      ]
    },
    {
      "cell_type": "code",
      "metadata": {
        "id": "CuM3-FyUWtqq",
        "colab_type": "code",
        "outputId": "8623f544-3c6d-42f7-88f8-820f5ac27bee",
        "colab": {
          "base_uri": "https://localhost:8080/",
          "height": 857
        }
      },
      "source": [
        "plot(history)"
      ],
      "execution_count": 18,
      "outputs": [
        {
          "output_type": "display_data",
          "data": {
            "image/png": "[encoded data removed]",
            "text/plain": [
              "plot without title"
            ]
          },
          "metadata": {
            "tags": []
          }
        }
      ]
    },
    {
      "cell_type": "markdown",
      "metadata": {
        "id": "nxIn0FARk4wh",
        "colab_type": "text"
      },
      "source": [
        "## Evaluate the performance"
      ]
    },
    {
      "cell_type": "code",
      "metadata": {
        "id": "Gbs8pa6GWtyw",
        "colab_type": "code",
        "outputId": "6fae2fa2-d4d6-4ca6-8e47-9219c29d5a94",
        "colab": {
          "base_uri": "https://localhost:8080/",
          "height": 113
        }
      },
      "source": [
        "model %>% evaluate(x_test, y_test)"
      ],
      "execution_count": 19,
      "outputs": [
        {
          "output_type": "display_data",
          "data": {
            "text/plain": [
              "$loss\n",
              "[1] 0.03411421\n",
              "\n",
              "$acc\n",
              "[1] 0.9895\n"
            ],
            "text/latex": "\\begin{description}\n\\item[\\$loss] 0.0341142140480395\n\\item[\\$acc] 0.989499986171722\n\\end{description}\n",
            "text/markdown": "$loss\n:   0.0341142140480395\n$acc\n:   0.989499986171722\n\n\n",
            "text/html": [
              "<dl>\n",
              "\t<dt>$loss</dt>\n",
              "\t\t<dd>0.0341142140480395</dd>\n",
              "\t<dt>$acc</dt>\n",
              "\t\t<dd>0.989499986171722</dd>\n",
              "</dl>\n"
            ]
          },
          "metadata": {
            "tags": []
          }
        }
      ]
    },
    {
      "cell_type": "code",
      "metadata": {
        "id": "5Y2vjmFBXBgh",
        "colab_type": "code",
        "colab": {}
      },
      "source": [
        ""
      ],
      "execution_count": 0,
      "outputs": []
    }
  ]
}