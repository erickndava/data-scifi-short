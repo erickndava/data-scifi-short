{
  "nbformat": 4,
  "nbformat_minor": 0,
  "metadata": {
    "kernelspec": {
      "display_name": "R",
      "language": "R",
      "name": "ir"
    },
    "language_info": {
      "codemirror_mode": "r",
      "file_extension": ".r",
      "mimetype": "text/x-r-source",
      "name": "R",
      "pygments_lexer": "r",
      "version": "3.3.1"
    },
    "colab": {
      "name": "UCT2019-CNNNews_R.ipynb",
      "version": "0.3.2",
      "provenance": [],
      "collapsed_sections": []
    },
    "accelerator": "GPU"
  },
  "cells": [
    {
      "cell_type": "markdown",
      "metadata": {
        "id": "YS9FclBXnTZL",
        "colab_type": "text"
      },
      "source": [
        "***Dr. Emmanuel Dufourq*** www.emmanueldufourq.com\n",
        "\n",
        "***African Institute for Mathematical Sciences***\n",
        "\n",
        "***2019***\n",
        "\n",
        "\n",
        "Credits: The data imports and tokenisation were extracted from https://github.com/rstudio/keras/blob/master/vignettes/examples/pretrained_word_embeddings.R\n",
        "\n",
        "***NOTE***\n",
        "\n",
        "Be sure to use hardware acceleration to use the GPU. Click on `Runtime`, change `runtime type`, and select `GPU` for the *hardware accelerator* option."
      ]
    },
    {
      "cell_type": "code",
      "metadata": {
        "id": "fdUuuxhRiXzg",
        "colab_type": "code",
        "outputId": "85859787-8886-41f7-ab56-a0dcd5324e1c",
        "colab": {
          "base_uri": "https://localhost:8080/",
          "height": 51
        }
      },
      "source": [
        "devtools::install_github(\"rstudio/keras\")"
      ],
      "execution_count": 84,
      "outputs": [
        {
          "output_type": "stream",
          "text": [
            "Skipping install of 'keras' from a github remote, the SHA1 (34dc89ed) has not changed since last install.\n",
            "  Use `force = TRUE` to force installation\n"
          ],
          "name": "stderr"
        }
      ]
    },
    {
      "cell_type": "markdown",
      "metadata": {
        "id": "fQteA-lKkVo-",
        "colab_type": "text"
      },
      "source": [
        "## Import the Keras library"
      ]
    },
    {
      "cell_type": "code",
      "metadata": {
        "id": "_iMaChtciX8e",
        "colab_type": "code",
        "colab": {}
      },
      "source": [
        "library(keras)\n",
        "library(stringr)"
      ],
      "execution_count": 0,
      "outputs": []
    },
    {
      "cell_type": "markdown",
      "metadata": {
        "id": "XP5Uf7XsAQ3e",
        "colab_type": "text"
      },
      "source": [
        "## Load the IMDB dataset\n",
        "\n",
        "Here we load the IMDB dataset and specify that we want the top 10,000 most frequent words. Which which occur less frequently than the top 10,000 will be discarded. \n",
        "\n",
        "In practice we can also use other techniques such as stop-word removal and tf-idf to get rid of certain \"rare\" words which don't add much value to the classification process.\n",
        "\n",
        "_***Loading this data set can take a minute or two***_"
      ]
    },
    {
      "cell_type": "markdown",
      "metadata": {
        "id": "epRszRLQkvWm",
        "colab_type": "text"
      },
      "source": [
        "## Function to download the data"
      ]
    },
    {
      "cell_type": "code",
      "metadata": {
        "id": "R9S8QrDdjvKI",
        "colab_type": "code",
        "colab": {}
      },
      "source": [
        "download_data <- function(data_dir, url_path, data_file) {\n",
        "  if (!dir.exists(data_dir)) {\n",
        "    download.file(paste0(url_path, data_file), data_file, mode = \"wb\")\n",
        "    if (tools::file_ext(data_file) == \"zip\")\n",
        "      unzip(data_file, exdir = tools::file_path_sans_ext(data_file))\n",
        "    else\n",
        "      untar(data_file)\n",
        "    unlink(data_file)\n",
        "  }\n",
        "}"
      ],
      "execution_count": 0,
      "outputs": []
    },
    {
      "cell_type": "markdown",
      "metadata": {
        "id": "WLqK-34eky10",
        "colab_type": "text"
      },
      "source": [
        "## Download data"
      ]
    },
    {
      "cell_type": "code",
      "metadata": {
        "id": "TKEpHvaqjvM7",
        "colab_type": "code",
        "colab": {}
      },
      "source": [
        "TEXT_DATA_DIR <- '20_newsgroup'\n",
        "download_data(TEXT_DATA_DIR, \"http://www.cs.cmu.edu/afs/cs.cmu.edu/project/theo-20/www/data/\", \"news20.tar.gz\")"
      ],
      "execution_count": 0,
      "outputs": []
    },
    {
      "cell_type": "markdown",
      "metadata": {
        "id": "hN5dbEIrk5dJ",
        "colab_type": "text"
      },
      "source": [
        "## Splitting the data into features and targets"
      ]
    },
    {
      "cell_type": "code",
      "metadata": {
        "id": "lSRdF-ocjvUd",
        "colab_type": "code",
        "colab": {}
      },
      "source": [
        "texts <- character()  # text samples\n",
        "labels <- integer() # label ids\n",
        "labels_index <- list()  # dictionary: label name to numeric id\n",
        "\n",
        "for (name in list.files(TEXT_DATA_DIR)) {\n",
        "  path <- file.path(TEXT_DATA_DIR, name)\n",
        "  if (file_test(\"-d\", path)) {\n",
        "    label_id <- length(labels_index)\n",
        "    labels_index[[name]] <- label_id\n",
        "    for (fname in list.files(path)) {\n",
        "      if (grepl(\"^[0-9]+$\", fname)) {\n",
        "        fpath <- file.path(path, fname)\n",
        "        t <- readLines(fpath, encoding = \"latin1\")\n",
        "        t <- paste(t, collapse = \"\\n\")\n",
        "        i <- regexpr(pattern = '\\n\\n', t, fixed = TRUE)[[1]]\n",
        "        if (i != -1L)\n",
        "          t <- substring(t, i)\n",
        "        texts <- c(texts, t)\n",
        "        labels <- c(labels, label_id)\n",
        "      }\n",
        "    }\n",
        "  }\n",
        "}"
      ],
      "execution_count": 0,
      "outputs": []
    },
    {
      "cell_type": "markdown",
      "metadata": {
        "id": "eoj8-yerljoI",
        "colab_type": "text"
      },
      "source": [
        "## Look at a data point"
      ]
    },
    {
      "cell_type": "code",
      "metadata": {
        "id": "RCRDmW0ck9mi",
        "colab_type": "code",
        "colab": {
          "base_uri": "https://localhost:8080/",
          "height": 102
        },
        "outputId": "f1070713-0d77-43ef-f283-a357df5d3c2c"
      },
      "source": [
        "texts[1230]"
      ],
      "execution_count": 89,
      "outputs": [
        {
          "output_type": "display_data",
          "data": {
            "text/plain": [
              "[1] \"\\n\\nIn article <1993Apr15.164940.11632@mercury.unt.edu> mcmains@unt.edu (Sean McMains) writes:\\n>\\n>Wow! A 68070! I'd be very interested to get my hands on one of these,\\n>especially considering the fact that Motorola has not yet released the\\n>68060, which is supposedly the next in the 680x0 lineup. 8-D\\n\\nA 68070 is just a 68010 with a built in MMU.  I don't even think that Moto.\\nmanufactures them.\\n\\n                                  - Ian Romanick\\n                                    Dancing Fool of Epsilon\\n\\n[]--------------------------------------------------------------------[]\\n | Were the contained thoughts 'opinions',     EPN.NTSC.quality = Best|\\n | PSU would probably not agree with them.                            |\\n |                                                                    |\\n | \\\"Look, I don't know anything about                                 |\\n | douche, but I do know Anti-Freeze                                  |\\n | when I see it!\\\" - The Dead Milkmen                                 |\\n[]--------------------------------------------------------------------[]\""
            ],
            "text/latex": "'\\textbackslash{}n\\textbackslash{}nIn article <1993Apr15.164940.11632@mercury.unt.edu> mcmains@unt.edu (Sean McMains) writes:\\textbackslash{}n>\\textbackslash{}n>Wow! A 68070! I\\textbackslash{}'d be very interested to get my hands on one of these,\\textbackslash{}n>especially considering the fact that Motorola has not yet released the\\textbackslash{}n>68060, which is supposedly the next in the 680x0 lineup. 8-D\\textbackslash{}n\\textbackslash{}nA 68070 is just a 68010 with a built in MMU.  I don\\textbackslash{}'t even think that Moto.\\textbackslash{}nmanufactures them.\\textbackslash{}n\\textbackslash{}n                                  - Ian Romanick\\textbackslash{}n                                    Dancing Fool of Epsilon\\textbackslash{}n\\textbackslash{}n{[}{]}--------------------------------------------------------------------{[}{]}\\textbackslash{}n \\textbar{} Were the contained thoughts \\textbackslash{}'opinions\\textbackslash{}',     EPN.NTSC.quality = Best\\textbar{}\\textbackslash{}n \\textbar{} PSU would probably not agree with them.                            \\textbar{}\\textbackslash{}n \\textbar{}                                                                    \\textbar{}\\textbackslash{}n \\textbar{} \"Look, I don\\textbackslash{}'t know anything about                                 \\textbar{}\\textbackslash{}n \\textbar{} douche, but I do know Anti-Freeze                                  \\textbar{}\\textbackslash{}n \\textbar{} when I see it!\" - The Dead Milkmen                                 \\textbar{}\\textbackslash{}n{[}{]}--------------------------------------------------------------------{[}{]}'",
            "text/markdown": "<span style=white-space:pre-wrap>'\\n\\nIn article &lt;1993Apr15.164940.11632@mercury.unt.edu&gt; mcmains@unt.edu (Sean McMains) writes:\\n&gt;\\n&gt;Wow! A 68070! I\\'d be very interested to get my hands on one of these,\\n&gt;especially considering the fact that Motorola has not yet released the\\n&gt;68060, which is supposedly the next in the 680x0 lineup. 8-D\\n\\nA 68070 is just a 68010 with a built in MMU.  I don\\'t even think that Moto.\\nmanufactures them.\\n\\n                                  - Ian Romanick\\n                                    Dancing Fool of Epsilon\\n\\n[]--------------------------------------------------------------------[]\\n | Were the contained thoughts \\'opinions\\',     EPN.NTSC.quality = Best|\\n | PSU would probably not agree with them.                            |\\n |                                                                    |\\n | \"Look, I don\\'t know anything about                                 |\\n | douche, but I do know Anti-Freeze                                  |\\n | when I see it!\" - The Dead Milkmen                                 |\\n[]--------------------------------------------------------------------[]'</span>",
            "text/html": [
              "<span style=white-space:pre-wrap>'\\n\\nIn article &lt;1993Apr15.164940.11632@mercury.unt.edu&gt; mcmains@unt.edu (Sean McMains) writes:\\n&gt;\\n&gt;Wow! A 68070! I\\'d be very interested to get my hands on one of these,\\n&gt;especially considering the fact that Motorola has not yet released the\\n&gt;68060, which is supposedly the next in the 680x0 lineup. 8-D\\n\\nA 68070 is just a 68010 with a built in MMU.  I don\\'t even think that Moto.\\nmanufactures them.\\n\\n                                  - Ian Romanick\\n                                    Dancing Fool of Epsilon\\n\\n[]--------------------------------------------------------------------[]\\n | Were the contained thoughts \\'opinions\\',     EPN.NTSC.quality = Best|\\n | PSU would probably not agree with them.                            |\\n |                                                                    |\\n | \"Look, I don\\'t know anything about                                 |\\n | douche, but I do know Anti-Freeze                                  |\\n | when I see it!\" - The Dead Milkmen                                 |\\n[]--------------------------------------------------------------------[]'</span>"
            ]
          },
          "metadata": {
            "tags": []
          }
        }
      ]
    },
    {
      "cell_type": "markdown",
      "metadata": {
        "id": "307KSdjdll-r",
        "colab_type": "text"
      },
      "source": [
        "## Look at the label"
      ]
    },
    {
      "cell_type": "code",
      "metadata": {
        "id": "elOvng4Tk_dP",
        "colab_type": "code",
        "colab": {
          "base_uri": "https://localhost:8080/",
          "height": 34
        },
        "outputId": "cea46913-53f5-4e02-cf8b-e481f3a3c7d0"
      },
      "source": [
        "labels[1230]"
      ],
      "execution_count": 90,
      "outputs": [
        {
          "output_type": "display_data",
          "data": {
            "text/plain": [
              "[1] 1"
            ],
            "text/latex": "1",
            "text/markdown": "1",
            "text/html": [
              "1"
            ]
          },
          "metadata": {
            "tags": []
          }
        }
      ]
    },
    {
      "cell_type": "markdown",
      "metadata": {
        "id": "f8BB4q1zluZK",
        "colab_type": "text"
      },
      "source": [
        "## Create a tokeniser\n",
        "\n",
        "We need a method to conver the text into numbers. We can define a tokeniser and fit it to the dataset. We also specify how many words it should attempt to index. This will then find the most common words and assign a value to them.\n",
        "\n",
        "More information on this function is available here: https://keras.rstudio.com/reference/text_tokenizer.html"
      ]
    },
    {
      "cell_type": "code",
      "metadata": {
        "id": "bFQP6YgKjvSC",
        "colab_type": "code",
        "colab": {}
      },
      "source": [
        "tokenizer <- text_tokenizer(num_words=10000)\n",
        "tokenizer %>% fit_text_tokenizer(texts)"
      ],
      "execution_count": 0,
      "outputs": []
    },
    {
      "cell_type": "markdown",
      "metadata": {
        "id": "RIcCH1_UmY1O",
        "colab_type": "text"
      },
      "source": [
        "## Convert the text into a sequence of integers"
      ]
    },
    {
      "cell_type": "code",
      "metadata": {
        "id": "jT7RdQppltte",
        "colab_type": "code",
        "colab": {}
      },
      "source": [
        "sequences <- texts_to_sequences(tokenizer, texts)"
      ],
      "execution_count": 0,
      "outputs": []
    },
    {
      "cell_type": "markdown",
      "metadata": {
        "id": "rGlVqGz1nVFD",
        "colab_type": "text"
      },
      "source": [
        "## Check how a sentence was converted into integers"
      ]
    },
    {
      "cell_type": "code",
      "metadata": {
        "id": "fUysTne0nJ-I",
        "colab_type": "code",
        "colab": {
          "base_uri": "https://localhost:8080/",
          "height": 1000
        },
        "outputId": "d56c05fe-c12d-4e14-c197-a47ea46b48c3"
      },
      "source": [
        "sequences[1230]"
      ],
      "execution_count": 93,
      "outputs": [
        {
          "output_type": "display_data",
          "data": {
            "text/plain": [
              "[[1]]\n",
              " [1]    6   54 1525 4335   26   26 3720   43 4350    4  302   16  117  444    2\n",
              "[16]   79   33 1284   15   40    3  100  595 1502    1  222    9 2891   52   17\n",
              "[31]  350 1848    1   61    8 2755    1  342    6    1 7358  102  141    4    8\n",
              "[46]   69    4   20    4  821    6    7   65  114   84    9 9408   77 5153 3353\n",
              "[61]    3   70    1 4135 2503 8934  855  259 3175   38  256   17  451   20   77\n",
              "[76]  221    7   65   74  235   44   24    7   42   74  760   67    7  116   11\n",
              "[91]    1  628\n"
            ],
            "text/latex": "\\begin{enumerate}\n\\item \\begin{enumerate*}\n\\item 6\n\\item 54\n\\item 1525\n\\item 4335\n\\item 26\n\\item 26\n\\item 3720\n\\item 43\n\\item 4350\n\\item 4\n\\item 302\n\\item 16\n\\item 117\n\\item 444\n\\item 2\n\\item 79\n\\item 33\n\\item 1284\n\\item 15\n\\item 40\n\\item 3\n\\item 100\n\\item 595\n\\item 1502\n\\item 1\n\\item 222\n\\item 9\n\\item 2891\n\\item 52\n\\item 17\n\\item 350\n\\item 1848\n\\item 1\n\\item 61\n\\item 8\n\\item 2755\n\\item 1\n\\item 342\n\\item 6\n\\item 1\n\\item 7358\n\\item 102\n\\item 141\n\\item 4\n\\item 8\n\\item 69\n\\item 4\n\\item 20\n\\item 4\n\\item 821\n\\item 6\n\\item 7\n\\item 65\n\\item 114\n\\item 84\n\\item 9\n\\item 9408\n\\item 77\n\\item 5153\n\\item 3353\n\\item 3\n\\item 70\n\\item 1\n\\item 4135\n\\item 2503\n\\item 8934\n\\item 855\n\\item 259\n\\item 3175\n\\item 38\n\\item 256\n\\item 17\n\\item 451\n\\item 20\n\\item 77\n\\item 221\n\\item 7\n\\item 65\n\\item 74\n\\item 235\n\\item 44\n\\item 24\n\\item 7\n\\item 42\n\\item 74\n\\item 760\n\\item 67\n\\item 7\n\\item 116\n\\item 11\n\\item 1\n\\item 628\n\\end{enumerate*}\n\n\\end{enumerate}\n",
            "text/markdown": "1. 1. 6\n2. 54\n3. 1525\n4. 4335\n5. 26\n6. 26\n7. 3720\n8. 43\n9. 4350\n10. 4\n11. 302\n12. 16\n13. 117\n14. 444\n15. 2\n16. 79\n17. 33\n18. 1284\n19. 15\n20. 40\n21. 3\n22. 100\n23. 595\n24. 1502\n25. 1\n26. 222\n27. 9\n28. 2891\n29. 52\n30. 17\n31. 350\n32. 1848\n33. 1\n34. 61\n35. 8\n36. 2755\n37. 1\n38. 342\n39. 6\n40. 1\n41. 7358\n42. 102\n43. 141\n44. 4\n45. 8\n46. 69\n47. 4\n48. 20\n49. 4\n50. 821\n51. 6\n52. 7\n53. 65\n54. 114\n55. 84\n56. 9\n57. 9408\n58. 77\n59. 5153\n60. 3353\n61. 3\n62. 70\n63. 1\n64. 4135\n65. 2503\n66. 8934\n67. 855\n68. 259\n69. 3175\n70. 38\n71. 256\n72. 17\n73. 451\n74. 20\n75. 77\n76. 221\n77. 7\n78. 65\n79. 74\n80. 235\n81. 44\n82. 24\n83. 7\n84. 42\n85. 74\n86. 760\n87. 67\n88. 7\n89. 116\n90. 11\n91. 1\n92. 628\n\n\n\n\n\n",
            "text/html": [
              "<ol>\n",
              "\t<li><ol class=list-inline>\n",
              "\t<li>6</li>\n",
              "\t<li>54</li>\n",
              "\t<li>1525</li>\n",
              "\t<li>4335</li>\n",
              "\t<li>26</li>\n",
              "\t<li>26</li>\n",
              "\t<li>3720</li>\n",
              "\t<li>43</li>\n",
              "\t<li>4350</li>\n",
              "\t<li>4</li>\n",
              "\t<li>302</li>\n",
              "\t<li>16</li>\n",
              "\t<li>117</li>\n",
              "\t<li>444</li>\n",
              "\t<li>2</li>\n",
              "\t<li>79</li>\n",
              "\t<li>33</li>\n",
              "\t<li>1284</li>\n",
              "\t<li>15</li>\n",
              "\t<li>40</li>\n",
              "\t<li>3</li>\n",
              "\t<li>100</li>\n",
              "\t<li>595</li>\n",
              "\t<li>1502</li>\n",
              "\t<li>1</li>\n",
              "\t<li>222</li>\n",
              "\t<li>9</li>\n",
              "\t<li>2891</li>\n",
              "\t<li>52</li>\n",
              "\t<li>17</li>\n",
              "\t<li>350</li>\n",
              "\t<li>1848</li>\n",
              "\t<li>1</li>\n",
              "\t<li>61</li>\n",
              "\t<li>8</li>\n",
              "\t<li>2755</li>\n",
              "\t<li>1</li>\n",
              "\t<li>342</li>\n",
              "\t<li>6</li>\n",
              "\t<li>1</li>\n",
              "\t<li>7358</li>\n",
              "\t<li>102</li>\n",
              "\t<li>141</li>\n",
              "\t<li>4</li>\n",
              "\t<li>8</li>\n",
              "\t<li>69</li>\n",
              "\t<li>4</li>\n",
              "\t<li>20</li>\n",
              "\t<li>4</li>\n",
              "\t<li>821</li>\n",
              "\t<li>6</li>\n",
              "\t<li>7</li>\n",
              "\t<li>65</li>\n",
              "\t<li>114</li>\n",
              "\t<li>84</li>\n",
              "\t<li>9</li>\n",
              "\t<li>9408</li>\n",
              "\t<li>77</li>\n",
              "\t<li>5153</li>\n",
              "\t<li>3353</li>\n",
              "\t<li>3</li>\n",
              "\t<li>70</li>\n",
              "\t<li>1</li>\n",
              "\t<li>4135</li>\n",
              "\t<li>2503</li>\n",
              "\t<li>8934</li>\n",
              "\t<li>855</li>\n",
              "\t<li>259</li>\n",
              "\t<li>3175</li>\n",
              "\t<li>38</li>\n",
              "\t<li>256</li>\n",
              "\t<li>17</li>\n",
              "\t<li>451</li>\n",
              "\t<li>20</li>\n",
              "\t<li>77</li>\n",
              "\t<li>221</li>\n",
              "\t<li>7</li>\n",
              "\t<li>65</li>\n",
              "\t<li>74</li>\n",
              "\t<li>235</li>\n",
              "\t<li>44</li>\n",
              "\t<li>24</li>\n",
              "\t<li>7</li>\n",
              "\t<li>42</li>\n",
              "\t<li>74</li>\n",
              "\t<li>760</li>\n",
              "\t<li>67</li>\n",
              "\t<li>7</li>\n",
              "\t<li>116</li>\n",
              "\t<li>11</li>\n",
              "\t<li>1</li>\n",
              "\t<li>628</li>\n",
              "</ol>\n",
              "</li>\n",
              "</ol>\n"
            ]
          },
          "metadata": {
            "tags": []
          }
        }
      ]
    },
    {
      "cell_type": "markdown",
      "metadata": {
        "id": "DDq0TIXtnBaW",
        "colab_type": "text"
      },
      "source": [
        "## Get the word indexing\n",
        "\n",
        "The word index is a mapping from words to integers."
      ]
    },
    {
      "cell_type": "code",
      "metadata": {
        "id": "DDx7pmMdmuFL",
        "colab_type": "code",
        "colab": {
          "base_uri": "https://localhost:8080/",
          "height": 385
        },
        "outputId": "88ed1034-443d-4a49-9497-0659a637da65"
      },
      "source": [
        "word_index <- tokenizer$word_index\n",
        "word_index[0:10]"
      ],
      "execution_count": 94,
      "outputs": [
        {
          "output_type": "display_data",
          "data": {
            "text/plain": [
              "$`3ds2scn`\n",
              "[1] 87028\n",
              "\n",
              "$`9l2t`\n",
              "[1] 89948\n",
              "\n",
              "$l1tbk\n",
              "[1] 124151\n",
              "\n",
              "$nunnery\n",
              "[1] 27554\n",
              "\n",
              "$porkification\n",
              "[1] 158185\n",
              "\n",
              "$luanch\n",
              "[1] 157608\n",
              "\n",
              "$woods\n",
              "[1] 7169\n",
              "\n",
              "$spiders\n",
              "[1] 140427\n",
              "\n",
              "$mdbs\n",
              "[1] 40217\n",
              "\n",
              "$woody\n",
              "[1] 17418\n"
            ],
            "text/latex": "\\begin{description}\n\\item[\\$`3ds2scn`] 87028\n\\item[\\$`9l2t`] 89948\n\\item[\\$l1tbk] 124151\n\\item[\\$nunnery] 27554\n\\item[\\$porkification] 158185\n\\item[\\$luanch] 157608\n\\item[\\$woods] 7169\n\\item[\\$spiders] 140427\n\\item[\\$mdbs] 40217\n\\item[\\$woody] 17418\n\\end{description}\n",
            "text/markdown": "$`3ds2scn`\n:   87028\n$`9l2t`\n:   89948\n$l1tbk\n:   124151\n$nunnery\n:   27554\n$porkification\n:   158185\n$luanch\n:   157608\n$woods\n:   7169\n$spiders\n:   140427\n$mdbs\n:   40217\n$woody\n:   17418\n\n\n",
            "text/html": [
              "<dl>\n",
              "\t<dt>$`3ds2scn`</dt>\n",
              "\t\t<dd>87028</dd>\n",
              "\t<dt>$`9l2t`</dt>\n",
              "\t\t<dd>89948</dd>\n",
              "\t<dt>$l1tbk</dt>\n",
              "\t\t<dd>124151</dd>\n",
              "\t<dt>$nunnery</dt>\n",
              "\t\t<dd>27554</dd>\n",
              "\t<dt>$porkification</dt>\n",
              "\t\t<dd>158185</dd>\n",
              "\t<dt>$luanch</dt>\n",
              "\t\t<dd>157608</dd>\n",
              "\t<dt>$woods</dt>\n",
              "\t\t<dd>7169</dd>\n",
              "\t<dt>$spiders</dt>\n",
              "\t\t<dd>140427</dd>\n",
              "\t<dt>$mdbs</dt>\n",
              "\t\t<dd>40217</dd>\n",
              "\t<dt>$woody</dt>\n",
              "\t\t<dd>17418</dd>\n",
              "</dl>\n"
            ]
          },
          "metadata": {
            "tags": []
          }
        }
      ]
    },
    {
      "cell_type": "markdown",
      "metadata": {
        "id": "tw6AgPi19Icu",
        "colab_type": "text"
      },
      "source": [
        "## Padding\n",
        "\n",
        "The neural network approach we will use requires that the input is of fixed size. So we cannot use the data in it's current form as each text extract (data point) is a different length. We can fix this by padding the sentences with zeros. Padding is added to the left. To pad we need to specify a maximum length. Each data point which had less words than the maximum length will be padded with zeros so that it reaches the correct length.\n",
        "\n",
        "In this case we choose the maximum data point length to be 400."
      ]
    },
    {
      "cell_type": "code",
      "metadata": {
        "id": "Q0Q3U4Pg7GaA",
        "colab_type": "code",
        "colab": {}
      },
      "source": [
        "x_data <- sequences %>% pad_sequences(maxlen = 400)"
      ],
      "execution_count": 0,
      "outputs": []
    },
    {
      "cell_type": "markdown",
      "metadata": {
        "id": "mowFu1_bGkEL",
        "colab_type": "text"
      },
      "source": [
        "## Checking our labels\n",
        "\n",
        "This is a multiclass classification problem with 20 classes."
      ]
    },
    {
      "cell_type": "code",
      "metadata": {
        "id": "fdR0Frc-_CtB",
        "colab_type": "code",
        "colab": {
          "base_uri": "https://localhost:8080/",
          "height": 385
        },
        "outputId": "9bbcc133-c657-4a51-ff49-a1baec723d0c"
      },
      "source": [
        "unique(labels)"
      ],
      "execution_count": 96,
      "outputs": [
        {
          "output_type": "display_data",
          "data": {
            "text/plain": [
              " [1]  0  1  2  3  4  5  6  7  8  9 10 11 12 13 14 15 16 17 18 19"
            ],
            "text/latex": "\\begin{enumerate*}\n\\item 0\n\\item 1\n\\item 2\n\\item 3\n\\item 4\n\\item 5\n\\item 6\n\\item 7\n\\item 8\n\\item 9\n\\item 10\n\\item 11\n\\item 12\n\\item 13\n\\item 14\n\\item 15\n\\item 16\n\\item 17\n\\item 18\n\\item 19\n\\end{enumerate*}\n",
            "text/markdown": "1. 0\n2. 1\n3. 2\n4. 3\n5. 4\n6. 5\n7. 6\n8. 7\n9. 8\n10. 9\n11. 10\n12. 11\n13. 12\n14. 13\n15. 14\n16. 15\n17. 16\n18. 17\n19. 18\n20. 19\n\n\n",
            "text/html": [
              "<ol class=list-inline>\n",
              "\t<li>0</li>\n",
              "\t<li>1</li>\n",
              "\t<li>2</li>\n",
              "\t<li>3</li>\n",
              "\t<li>4</li>\n",
              "\t<li>5</li>\n",
              "\t<li>6</li>\n",
              "\t<li>7</li>\n",
              "\t<li>8</li>\n",
              "\t<li>9</li>\n",
              "\t<li>10</li>\n",
              "\t<li>11</li>\n",
              "\t<li>12</li>\n",
              "\t<li>13</li>\n",
              "\t<li>14</li>\n",
              "\t<li>15</li>\n",
              "\t<li>16</li>\n",
              "\t<li>17</li>\n",
              "\t<li>18</li>\n",
              "\t<li>19</li>\n",
              "</ol>\n"
            ]
          },
          "metadata": {
            "tags": []
          }
        }
      ]
    },
    {
      "cell_type": "markdown",
      "metadata": {
        "id": "pu8xWAjLoV35",
        "colab_type": "text"
      },
      "source": [
        "## Apply one-hot encoding"
      ]
    },
    {
      "cell_type": "code",
      "metadata": {
        "id": "BdkL1eoRoV_D",
        "colab_type": "code",
        "colab": {}
      },
      "source": [
        "y_data <- to_categorical(labels)"
      ],
      "execution_count": 0,
      "outputs": []
    },
    {
      "cell_type": "markdown",
      "metadata": {
        "id": "SHxiZgMlog9f",
        "colab_type": "text"
      },
      "source": [
        "## Split data into training and testing"
      ]
    },
    {
      "cell_type": "code",
      "metadata": {
        "id": "hybo5uGmohD8",
        "colab_type": "code",
        "colab": {}
      },
      "source": [
        "indices <- 1:nrow(x_data)\n",
        "indices <- sample(indices)\n",
        "data <- x_data[indices,]\n",
        "y_data <- y_data[indices,]\n",
        "num_validation_samples <- as.integer(0.2 * nrow(x_data))\n",
        "\n",
        "x_train <- x_data[-(1:num_validation_samples),]\n",
        "y_train <- y_data[-(1:num_validation_samples),]\n",
        "x_val <- x_data[1:num_validation_samples,]\n",
        "y_val <- y_data[1:num_validation_samples,]"
      ],
      "execution_count": 0,
      "outputs": []
    },
    {
      "cell_type": "markdown",
      "metadata": {
        "id": "0YTSuTiGpKkj",
        "colab_type": "text"
      },
      "source": [
        "## Check dimensions"
      ]
    },
    {
      "cell_type": "code",
      "metadata": {
        "id": "hYBqKNospKsn",
        "colab_type": "code",
        "colab": {
          "base_uri": "https://localhost:8080/",
          "height": 79
        },
        "outputId": "413cbc04-e952-4261-c8ac-de4cffdc8d08"
      },
      "source": [
        "dim(x_train)"
      ],
      "execution_count": 99,
      "outputs": [
        {
          "output_type": "display_data",
          "data": {
            "text/plain": [
              "[1] 15998   400"
            ],
            "text/latex": "\\begin{enumerate*}\n\\item 15998\n\\item 400\n\\end{enumerate*}\n",
            "text/markdown": "1. 15998\n2. 400\n\n\n",
            "text/html": [
              "<ol class=list-inline>\n",
              "\t<li>15998</li>\n",
              "\t<li>400</li>\n",
              "</ol>\n"
            ]
          },
          "metadata": {
            "tags": []
          }
        }
      ]
    },
    {
      "cell_type": "code",
      "metadata": {
        "id": "TtOPgVtqpMk0",
        "colab_type": "code",
        "colab": {
          "base_uri": "https://localhost:8080/",
          "height": 79
        },
        "outputId": "fa79018f-7fd6-4592-b0f6-6081d9aab2b3"
      },
      "source": [
        "dim(x_val)"
      ],
      "execution_count": 100,
      "outputs": [
        {
          "output_type": "display_data",
          "data": {
            "text/plain": [
              "[1] 3999  400"
            ],
            "text/latex": "\\begin{enumerate*}\n\\item 3999\n\\item 400\n\\end{enumerate*}\n",
            "text/markdown": "1. 3999\n2. 400\n\n\n",
            "text/html": [
              "<ol class=list-inline>\n",
              "\t<li>3999</li>\n",
              "\t<li>400</li>\n",
              "</ol>\n"
            ]
          },
          "metadata": {
            "tags": []
          }
        }
      ]
    },
    {
      "cell_type": "code",
      "metadata": {
        "id": "y78TsCdQpPws",
        "colab_type": "code",
        "colab": {
          "base_uri": "https://localhost:8080/",
          "height": 79
        },
        "outputId": "c2046171-a11b-4d88-de38-6b9ba30c378f"
      },
      "source": [
        "dim(y_train)"
      ],
      "execution_count": 101,
      "outputs": [
        {
          "output_type": "display_data",
          "data": {
            "text/plain": [
              "[1] 15998    20"
            ],
            "text/latex": "\\begin{enumerate*}\n\\item 15998\n\\item 20\n\\end{enumerate*}\n",
            "text/markdown": "1. 15998\n2. 20\n\n\n",
            "text/html": [
              "<ol class=list-inline>\n",
              "\t<li>15998</li>\n",
              "\t<li>20</li>\n",
              "</ol>\n"
            ]
          },
          "metadata": {
            "tags": []
          }
        }
      ]
    },
    {
      "cell_type": "code",
      "metadata": {
        "id": "4m0l7BFdpPz3",
        "colab_type": "code",
        "colab": {
          "base_uri": "https://localhost:8080/",
          "height": 79
        },
        "outputId": "4f7704bd-db23-4e01-aedc-dfd35caedc9f"
      },
      "source": [
        "dim(y_val)"
      ],
      "execution_count": 102,
      "outputs": [
        {
          "output_type": "display_data",
          "data": {
            "text/plain": [
              "[1] 3999   20"
            ],
            "text/latex": "\\begin{enumerate*}\n\\item 3999\n\\item 20\n\\end{enumerate*}\n",
            "text/markdown": "1. 3999\n2. 20\n\n\n",
            "text/html": [
              "<ol class=list-inline>\n",
              "\t<li>3999</li>\n",
              "\t<li>20</li>\n",
              "</ol>\n"
            ]
          },
          "metadata": {
            "tags": []
          }
        }
      ]
    },
    {
      "cell_type": "markdown",
      "metadata": {
        "id": "2bF_Q-lhHksG",
        "colab_type": "text"
      },
      "source": [
        "## Create a model"
      ]
    },
    {
      "cell_type": "code",
      "metadata": {
        "id": "x0Cmo_fRF52d",
        "colab_type": "code",
        "colab": {}
      },
      "source": [
        "model <- keras_model_sequential() %>%\n",
        "  layer_embedding(input_dim = 10000, output_dim = 32, input_length = 400) %>% #embedding layer\n",
        "  layer_dropout(0.2) %>%\n",
        "  layer_conv_1d(filters = 32, kernel_size = 3, padding = \"valid\", activation = \"relu\", strides = 1) %>%\n",
        "  layer_global_max_pooling_1d() %>%\n",
        "  layer_dense(units = 128, activation = 'relu') %>% # the MLP starts here\n",
        "  layer_dropout(rate = 0.5) %>% \n",
        "  layer_dense(units = 20, activation = 'softmax')"
      ],
      "execution_count": 0,
      "outputs": []
    },
    {
      "cell_type": "markdown",
      "metadata": {
        "id": "yiP1lpqKI2n3",
        "colab_type": "text"
      },
      "source": [
        "## Compile the model"
      ]
    },
    {
      "cell_type": "code",
      "metadata": {
        "id": "FckkXo9TG2f6",
        "colab_type": "code",
        "colab": {}
      },
      "source": [
        "model %>% compile(\n",
        "  loss = \"binary_crossentropy\",\n",
        "  optimizer = \"adam\",\n",
        "  metrics = \"accuracy\"\n",
        ")"
      ],
      "execution_count": 0,
      "outputs": []
    },
    {
      "cell_type": "markdown",
      "metadata": {
        "id": "PdyG7Iq1MjXC",
        "colab_type": "text"
      },
      "source": [
        "## Note the output of 1-D global max pooling\n",
        "\n",
        "Here, for each of the 100 embedding vectors, the maximum value is computed. In this example, there are 100 embedding vectors of length 398, and thus the maximum value is extracted resulting in a shape of (None, 100)."
      ]
    },
    {
      "cell_type": "code",
      "metadata": {
        "id": "yqOHmh9dMjdl",
        "colab_type": "code",
        "outputId": "b56f52cb-7627-4470-dd67-c73d9ba02670",
        "colab": {
          "base_uri": "https://localhost:8080/",
          "height": 391
        }
      },
      "source": [
        "summary(model)"
      ],
      "execution_count": 105,
      "outputs": [
        {
          "output_type": "stream",
          "text": [
            "Model: \"sequential_2\"\n",
            "________________________________________________________________________________\n",
            "Layer (type)                        Output Shape                    Param #     \n",
            "================================================================================\n",
            "embedding_2 (Embedding)             (None, 400, 32)                 320000      \n",
            "________________________________________________________________________________\n",
            "dropout_4 (Dropout)                 (None, 400, 32)                 0           \n",
            "________________________________________________________________________________\n",
            "conv1d_2 (Conv1D)                   (None, 398, 32)                 3104        \n",
            "________________________________________________________________________________\n",
            "global_max_pooling1d_2 (GlobalMaxPo (None, 32)                      0           \n",
            "________________________________________________________________________________\n",
            "dense_4 (Dense)                     (None, 128)                     4224        \n",
            "________________________________________________________________________________\n",
            "dropout_5 (Dropout)                 (None, 128)                     0           \n",
            "________________________________________________________________________________\n",
            "dense_5 (Dense)                     (None, 20)                      2580        \n",
            "================================================================================\n",
            "Total params: 329,908\n",
            "Trainable params: 329,908\n",
            "Non-trainable params: 0\n",
            "________________________________________________________________________________\n"
          ],
          "name": "stdout"
        }
      ]
    },
    {
      "cell_type": "markdown",
      "metadata": {
        "id": "b8UxbwiKbyWP",
        "colab_type": "text"
      },
      "source": [
        "## Train the model\n",
        "\n",
        "This takes about 1 minute to train on the GPU instance using 4 epochs"
      ]
    },
    {
      "cell_type": "code",
      "metadata": {
        "id": "5gGCDUXBWzL9",
        "colab_type": "code",
        "colab": {}
      },
      "source": [
        "history <- model %>% fit(\n",
        "  x_train,\n",
        "  y_train,\n",
        "  epochs = 3,\n",
        "  validation_split = 0.2,\n",
        "  verbose = 0,\n",
        "  batch_size = 16\n",
        ")"
      ],
      "execution_count": 0,
      "outputs": []
    },
    {
      "cell_type": "markdown",
      "metadata": {
        "id": "lmu7cOgRk2zR",
        "colab_type": "text"
      },
      "source": [
        "### Plot the performance"
      ]
    },
    {
      "cell_type": "code",
      "metadata": {
        "id": "CuM3-FyUWtqq",
        "colab_type": "code",
        "outputId": "f2927728-267f-43cc-8d03-fdbff880227f",
        "colab": {
          "base_uri": "https://localhost:8080/",
          "height": 857
        }
      },
      "source": [
        "plot(history)"
      ],
      "execution_count": 107,
      "outputs": [
        {
          "output_type": "display_data",
          "data": {
            "image/png": "[encoded data removed]",
            "text/plain": [
              "plot without title"
            ]
          },
          "metadata": {
            "tags": []
          }
        }
      ]
    },
    {
      "cell_type": "markdown",
      "metadata": {
        "id": "nxIn0FARk4wh",
        "colab_type": "text"
      },
      "source": [
        "## Evaluate the performance"
      ]
    },
    {
      "cell_type": "code",
      "metadata": {
        "id": "Gbs8pa6GWtyw",
        "colab_type": "code",
        "outputId": "0fd65c8b-7ca0-4bea-9205-23df2ec214ac",
        "colab": {
          "base_uri": "https://localhost:8080/",
          "height": 113
        }
      },
      "source": [
        "model %>% evaluate(x_val, y_val)"
      ],
      "execution_count": 108,
      "outputs": [
        {
          "output_type": "display_data",
          "data": {
            "text/plain": [
              "$loss\n",
              "[1] 0.198676\n",
              "\n",
              "$acc\n",
              "[1] 0.9499989\n"
            ],
            "text/latex": "\\begin{description}\n\\item[\\$loss] 0.198675995522602\n\\item[\\$acc] 0.949998915195465\n\\end{description}\n",
            "text/markdown": "$loss\n:   0.198675995522602\n$acc\n:   0.949998915195465\n\n\n",
            "text/html": [
              "<dl>\n",
              "\t<dt>$loss</dt>\n",
              "\t\t<dd>0.198675995522602</dd>\n",
              "\t<dt>$acc</dt>\n",
              "\t\t<dd>0.949998915195465</dd>\n",
              "</dl>\n"
            ]
          },
          "metadata": {
            "tags": []
          }
        }
      ]
    },
    {
      "cell_type": "markdown",
      "metadata": {
        "id": "44Egtz6GLG1n",
        "colab_type": "text"
      },
      "source": [
        "## Predicting\n",
        "\n",
        "We can obtain the sigmoid outputs for each test case."
      ]
    },
    {
      "cell_type": "code",
      "metadata": {
        "id": "4c72lmieG2jL",
        "colab_type": "code",
        "outputId": "293c0d94-44b5-411b-d4c0-943fc3779627",
        "colab": {
          "base_uri": "https://localhost:8080/",
          "height": 266
        }
      },
      "source": [
        "model %>% predict(x_val[1:10,])"
      ],
      "execution_count": 109,
      "outputs": [
        {
          "output_type": "display_data",
          "data": {
            "text/plain": [
              "      [,1]       [,2]       [,3]       [,4]       [,5]       [,6]      \n",
              " [1,] 0.04965884 0.05002101 0.04869637 0.04895003 0.05109463 0.04729991\n",
              " [2,] 0.04711771 0.05123716 0.04688568 0.04909843 0.05089844 0.04784042\n",
              " [3,] 0.04606425 0.05261694 0.04915021 0.04534147 0.04549373 0.04925393\n",
              " [4,] 0.04928586 0.05285425 0.05036291 0.04381396 0.04779160 0.04897467\n",
              " [5,] 0.04921268 0.05210514 0.05230696 0.04448432 0.04723462 0.05150324\n",
              " [6,] 0.04550597 0.05280380 0.05028945 0.04673931 0.04625584 0.05101187\n",
              " [7,] 0.05447582 0.04991601 0.05184624 0.04741590 0.04479410 0.05076545\n",
              " [8,] 0.04432971 0.05480847 0.04898531 0.04226955 0.04684210 0.05064103\n",
              " [9,] 0.05078367 0.04995439 0.04960280 0.04566884 0.04447144 0.05146538\n",
              "[10,] 0.05047244 0.05092427 0.05208232 0.04531306 0.04753408 0.05094086\n",
              "      [,7]       [,8]       [,9]       [,10]      [,11]      [,12]     \n",
              " [1,] 0.04747726 0.04863125 0.04998605 0.05049389 0.05643825 0.04576404\n",
              " [2,] 0.04324480 0.04942381 0.05342804 0.04904389 0.05646074 0.04648327\n",
              " [3,] 0.04571254 0.04975342 0.05252463 0.05041971 0.05498290 0.04997832\n",
              " [4,] 0.05002617 0.05088023 0.05287468 0.04928653 0.05170140 0.04809390\n",
              " [5,] 0.04845884 0.05046337 0.05051709 0.05178858 0.05037607 0.05193577\n",
              " [6,] 0.04334227 0.04913294 0.05112053 0.05341728 0.05223939 0.05309508\n",
              " [7,] 0.05020908 0.05103258 0.04721529 0.05241291 0.04963871 0.05081065\n",
              " [8,] 0.04378033 0.05065787 0.05414859 0.05171199 0.05325656 0.05142214\n",
              " [9,] 0.04528260 0.05102852 0.04989112 0.05329708 0.05119009 0.05324630\n",
              "[10,] 0.05005714 0.04864454 0.04986813 0.04897847 0.05211825 0.05065399\n",
              "      [,13]      [,14]      [,15]      [,16]      [,17]      [,18]     \n",
              " [1,] 0.04563498 0.04971050 0.05354728 0.04505087 0.05472245 0.05006795\n",
              " [2,] 0.04767852 0.04992682 0.05448519 0.04465880 0.05767016 0.04644017\n",
              " [3,] 0.04670614 0.05012535 0.05609525 0.04845047 0.05079926 0.05358516\n",
              " [4,] 0.04717835 0.04945919 0.05345666 0.04896959 0.04981206 0.04825331\n",
              " [5,] 0.04811597 0.04948607 0.05363526 0.04800138 0.04935126 0.04735010\n",
              " [6,] 0.04671990 0.05192433 0.05693295 0.04723139 0.05178978 0.04942836\n",
              " [7,] 0.04785946 0.04819848 0.05571882 0.04454248 0.04937373 0.04773273\n",
              " [8,] 0.04632958 0.05133979 0.05511734 0.04900606 0.05270186 0.05082866\n",
              " [9,] 0.04845060 0.04987588 0.05935651 0.04394216 0.05035432 0.04756131\n",
              "[10,] 0.04668005 0.04971383 0.05559237 0.04759563 0.04969811 0.04716572\n",
              "      [,19]      [,20]     \n",
              " [1,] 0.05022652 0.05652790\n",
              " [2,] 0.05174664 0.05623130\n",
              " [3,] 0.04970368 0.05324266\n",
              " [4,] 0.05163997 0.05528472\n",
              " [5,] 0.05259020 0.05108305\n",
              " [6,] 0.05156555 0.04945399\n",
              " [7,] 0.05424790 0.05179372\n",
              " [8,] 0.05017506 0.05164800\n",
              " [9,] 0.05477707 0.04979989\n",
              "[10,] 0.05338660 0.05258013"
            ],
            "text/latex": "A matrix: 10 × 20 of type dbl\n\\begin{tabular}{llllllllllllllllllll}\n\t 0.04965884 & 0.05002101 & 0.04869637 & 0.04895003 & 0.05109463 & 0.04729991 & 0.04747726 & 0.04863125 & 0.04998605 & 0.05049389 & 0.05643825 & 0.04576404 & 0.04563498 & 0.04971050 & 0.05354728 & 0.04505087 & 0.05472245 & 0.05006795 & 0.05022652 & 0.05652790\\\\\n\t 0.04711771 & 0.05123716 & 0.04688568 & 0.04909843 & 0.05089844 & 0.04784042 & 0.04324480 & 0.04942381 & 0.05342804 & 0.04904389 & 0.05646074 & 0.04648327 & 0.04767852 & 0.04992682 & 0.05448519 & 0.04465880 & 0.05767016 & 0.04644017 & 0.05174664 & 0.05623130\\\\\n\t 0.04606425 & 0.05261694 & 0.04915021 & 0.04534147 & 0.04549373 & 0.04925393 & 0.04571254 & 0.04975342 & 0.05252463 & 0.05041971 & 0.05498290 & 0.04997832 & 0.04670614 & 0.05012535 & 0.05609525 & 0.04845047 & 0.05079926 & 0.05358516 & 0.04970368 & 0.05324266\\\\\n\t 0.04928586 & 0.05285425 & 0.05036291 & 0.04381396 & 0.04779160 & 0.04897467 & 0.05002617 & 0.05088023 & 0.05287468 & 0.04928653 & 0.05170140 & 0.04809390 & 0.04717835 & 0.04945919 & 0.05345666 & 0.04896959 & 0.04981206 & 0.04825331 & 0.05163997 & 0.05528472\\\\\n\t 0.04921268 & 0.05210514 & 0.05230696 & 0.04448432 & 0.04723462 & 0.05150324 & 0.04845884 & 0.05046337 & 0.05051709 & 0.05178858 & 0.05037607 & 0.05193577 & 0.04811597 & 0.04948607 & 0.05363526 & 0.04800138 & 0.04935126 & 0.04735010 & 0.05259020 & 0.05108305\\\\\n\t 0.04550597 & 0.05280380 & 0.05028945 & 0.04673931 & 0.04625584 & 0.05101187 & 0.04334227 & 0.04913294 & 0.05112053 & 0.05341728 & 0.05223939 & 0.05309508 & 0.04671990 & 0.05192433 & 0.05693295 & 0.04723139 & 0.05178978 & 0.04942836 & 0.05156555 & 0.04945399\\\\\n\t 0.05447582 & 0.04991601 & 0.05184624 & 0.04741590 & 0.04479410 & 0.05076545 & 0.05020908 & 0.05103258 & 0.04721529 & 0.05241291 & 0.04963871 & 0.05081065 & 0.04785946 & 0.04819848 & 0.05571882 & 0.04454248 & 0.04937373 & 0.04773273 & 0.05424790 & 0.05179372\\\\\n\t 0.04432971 & 0.05480847 & 0.04898531 & 0.04226955 & 0.04684210 & 0.05064103 & 0.04378033 & 0.05065787 & 0.05414859 & 0.05171199 & 0.05325656 & 0.05142214 & 0.04632958 & 0.05133979 & 0.05511734 & 0.04900606 & 0.05270186 & 0.05082866 & 0.05017506 & 0.05164800\\\\\n\t 0.05078367 & 0.04995439 & 0.04960280 & 0.04566884 & 0.04447144 & 0.05146538 & 0.04528260 & 0.05102852 & 0.04989112 & 0.05329708 & 0.05119009 & 0.05324630 & 0.04845060 & 0.04987588 & 0.05935651 & 0.04394216 & 0.05035432 & 0.04756131 & 0.05477707 & 0.04979989\\\\\n\t 0.05047244 & 0.05092427 & 0.05208232 & 0.04531306 & 0.04753408 & 0.05094086 & 0.05005714 & 0.04864454 & 0.04986813 & 0.04897847 & 0.05211825 & 0.05065399 & 0.04668005 & 0.04971383 & 0.05559237 & 0.04759563 & 0.04969811 & 0.04716572 & 0.05338660 & 0.05258013\\\\\n\\end{tabular}\n",
            "text/markdown": "\nA matrix: 10 × 20 of type dbl\n\n| 0.04965884 | 0.05002101 | 0.04869637 | 0.04895003 | 0.05109463 | 0.04729991 | 0.04747726 | 0.04863125 | 0.04998605 | 0.05049389 | 0.05643825 | 0.04576404 | 0.04563498 | 0.04971050 | 0.05354728 | 0.04505087 | 0.05472245 | 0.05006795 | 0.05022652 | 0.05652790 |\n| 0.04711771 | 0.05123716 | 0.04688568 | 0.04909843 | 0.05089844 | 0.04784042 | 0.04324480 | 0.04942381 | 0.05342804 | 0.04904389 | 0.05646074 | 0.04648327 | 0.04767852 | 0.04992682 | 0.05448519 | 0.04465880 | 0.05767016 | 0.04644017 | 0.05174664 | 0.05623130 |\n| 0.04606425 | 0.05261694 | 0.04915021 | 0.04534147 | 0.04549373 | 0.04925393 | 0.04571254 | 0.04975342 | 0.05252463 | 0.05041971 | 0.05498290 | 0.04997832 | 0.04670614 | 0.05012535 | 0.05609525 | 0.04845047 | 0.05079926 | 0.05358516 | 0.04970368 | 0.05324266 |\n| 0.04928586 | 0.05285425 | 0.05036291 | 0.04381396 | 0.04779160 | 0.04897467 | 0.05002617 | 0.05088023 | 0.05287468 | 0.04928653 | 0.05170140 | 0.04809390 | 0.04717835 | 0.04945919 | 0.05345666 | 0.04896959 | 0.04981206 | 0.04825331 | 0.05163997 | 0.05528472 |\n| 0.04921268 | 0.05210514 | 0.05230696 | 0.04448432 | 0.04723462 | 0.05150324 | 0.04845884 | 0.05046337 | 0.05051709 | 0.05178858 | 0.05037607 | 0.05193577 | 0.04811597 | 0.04948607 | 0.05363526 | 0.04800138 | 0.04935126 | 0.04735010 | 0.05259020 | 0.05108305 |\n| 0.04550597 | 0.05280380 | 0.05028945 | 0.04673931 | 0.04625584 | 0.05101187 | 0.04334227 | 0.04913294 | 0.05112053 | 0.05341728 | 0.05223939 | 0.05309508 | 0.04671990 | 0.05192433 | 0.05693295 | 0.04723139 | 0.05178978 | 0.04942836 | 0.05156555 | 0.04945399 |\n| 0.05447582 | 0.04991601 | 0.05184624 | 0.04741590 | 0.04479410 | 0.05076545 | 0.05020908 | 0.05103258 | 0.04721529 | 0.05241291 | 0.04963871 | 0.05081065 | 0.04785946 | 0.04819848 | 0.05571882 | 0.04454248 | 0.04937373 | 0.04773273 | 0.05424790 | 0.05179372 |\n| 0.04432971 | 0.05480847 | 0.04898531 | 0.04226955 | 0.04684210 | 0.05064103 | 0.04378033 | 0.05065787 | 0.05414859 | 0.05171199 | 0.05325656 | 0.05142214 | 0.04632958 | 0.05133979 | 0.05511734 | 0.04900606 | 0.05270186 | 0.05082866 | 0.05017506 | 0.05164800 |\n| 0.05078367 | 0.04995439 | 0.04960280 | 0.04566884 | 0.04447144 | 0.05146538 | 0.04528260 | 0.05102852 | 0.04989112 | 0.05329708 | 0.05119009 | 0.05324630 | 0.04845060 | 0.04987588 | 0.05935651 | 0.04394216 | 0.05035432 | 0.04756131 | 0.05477707 | 0.04979989 |\n| 0.05047244 | 0.05092427 | 0.05208232 | 0.04531306 | 0.04753408 | 0.05094086 | 0.05005714 | 0.04864454 | 0.04986813 | 0.04897847 | 0.05211825 | 0.05065399 | 0.04668005 | 0.04971383 | 0.05559237 | 0.04759563 | 0.04969811 | 0.04716572 | 0.05338660 | 0.05258013 |\n\n",
            "text/html": [
              "<table>\n",
              "<caption>A matrix: 10 × 20 of type dbl</caption>\n",
              "<tbody>\n",
              "\t<tr><td>0.04965884</td><td>0.05002101</td><td>0.04869637</td><td>0.04895003</td><td>0.05109463</td><td>0.04729991</td><td>0.04747726</td><td>0.04863125</td><td>0.04998605</td><td>0.05049389</td><td>0.05643825</td><td>0.04576404</td><td>0.04563498</td><td>0.04971050</td><td>0.05354728</td><td>0.04505087</td><td>0.05472245</td><td>0.05006795</td><td>0.05022652</td><td>0.05652790</td></tr>\n",
              "\t<tr><td>0.04711771</td><td>0.05123716</td><td>0.04688568</td><td>0.04909843</td><td>0.05089844</td><td>0.04784042</td><td>0.04324480</td><td>0.04942381</td><td>0.05342804</td><td>0.04904389</td><td>0.05646074</td><td>0.04648327</td><td>0.04767852</td><td>0.04992682</td><td>0.05448519</td><td>0.04465880</td><td>0.05767016</td><td>0.04644017</td><td>0.05174664</td><td>0.05623130</td></tr>\n",
              "\t<tr><td>0.04606425</td><td>0.05261694</td><td>0.04915021</td><td>0.04534147</td><td>0.04549373</td><td>0.04925393</td><td>0.04571254</td><td>0.04975342</td><td>0.05252463</td><td>0.05041971</td><td>0.05498290</td><td>0.04997832</td><td>0.04670614</td><td>0.05012535</td><td>0.05609525</td><td>0.04845047</td><td>0.05079926</td><td>0.05358516</td><td>0.04970368</td><td>0.05324266</td></tr>\n",
              "\t<tr><td>0.04928586</td><td>0.05285425</td><td>0.05036291</td><td>0.04381396</td><td>0.04779160</td><td>0.04897467</td><td>0.05002617</td><td>0.05088023</td><td>0.05287468</td><td>0.04928653</td><td>0.05170140</td><td>0.04809390</td><td>0.04717835</td><td>0.04945919</td><td>0.05345666</td><td>0.04896959</td><td>0.04981206</td><td>0.04825331</td><td>0.05163997</td><td>0.05528472</td></tr>\n",
              "\t<tr><td>0.04921268</td><td>0.05210514</td><td>0.05230696</td><td>0.04448432</td><td>0.04723462</td><td>0.05150324</td><td>0.04845884</td><td>0.05046337</td><td>0.05051709</td><td>0.05178858</td><td>0.05037607</td><td>0.05193577</td><td>0.04811597</td><td>0.04948607</td><td>0.05363526</td><td>0.04800138</td><td>0.04935126</td><td>0.04735010</td><td>0.05259020</td><td>0.05108305</td></tr>\n",
              "\t<tr><td>0.04550597</td><td>0.05280380</td><td>0.05028945</td><td>0.04673931</td><td>0.04625584</td><td>0.05101187</td><td>0.04334227</td><td>0.04913294</td><td>0.05112053</td><td>0.05341728</td><td>0.05223939</td><td>0.05309508</td><td>0.04671990</td><td>0.05192433</td><td>0.05693295</td><td>0.04723139</td><td>0.05178978</td><td>0.04942836</td><td>0.05156555</td><td>0.04945399</td></tr>\n",
              "\t<tr><td>0.05447582</td><td>0.04991601</td><td>0.05184624</td><td>0.04741590</td><td>0.04479410</td><td>0.05076545</td><td>0.05020908</td><td>0.05103258</td><td>0.04721529</td><td>0.05241291</td><td>0.04963871</td><td>0.05081065</td><td>0.04785946</td><td>0.04819848</td><td>0.05571882</td><td>0.04454248</td><td>0.04937373</td><td>0.04773273</td><td>0.05424790</td><td>0.05179372</td></tr>\n",
              "\t<tr><td>0.04432971</td><td>0.05480847</td><td>0.04898531</td><td>0.04226955</td><td>0.04684210</td><td>0.05064103</td><td>0.04378033</td><td>0.05065787</td><td>0.05414859</td><td>0.05171199</td><td>0.05325656</td><td>0.05142214</td><td>0.04632958</td><td>0.05133979</td><td>0.05511734</td><td>0.04900606</td><td>0.05270186</td><td>0.05082866</td><td>0.05017506</td><td>0.05164800</td></tr>\n",
              "\t<tr><td>0.05078367</td><td>0.04995439</td><td>0.04960280</td><td>0.04566884</td><td>0.04447144</td><td>0.05146538</td><td>0.04528260</td><td>0.05102852</td><td>0.04989112</td><td>0.05329708</td><td>0.05119009</td><td>0.05324630</td><td>0.04845060</td><td>0.04987588</td><td>0.05935651</td><td>0.04394216</td><td>0.05035432</td><td>0.04756131</td><td>0.05477707</td><td>0.04979989</td></tr>\n",
              "\t<tr><td>0.05047244</td><td>0.05092427</td><td>0.05208232</td><td>0.04531306</td><td>0.04753408</td><td>0.05094086</td><td>0.05005714</td><td>0.04864454</td><td>0.04986813</td><td>0.04897847</td><td>0.05211825</td><td>0.05065399</td><td>0.04668005</td><td>0.04971383</td><td>0.05559237</td><td>0.04759563</td><td>0.04969811</td><td>0.04716572</td><td>0.05338660</td><td>0.05258013</td></tr>\n",
              "</tbody>\n",
              "</table>\n"
            ]
          },
          "metadata": {
            "tags": []
          }
        }
      ]
    },
    {
      "cell_type": "markdown",
      "metadata": {
        "id": "_Yz1hQ0qi7jb",
        "colab_type": "text"
      },
      "source": [
        "Using the `predict_classes` function we can get the binary predictions for each test case."
      ]
    },
    {
      "cell_type": "code",
      "metadata": {
        "id": "fRlRInysG2mu",
        "colab_type": "code",
        "outputId": "8da6d5e2-1b3c-49ce-ad76-e6f827dfa868",
        "colab": {
          "base_uri": "https://localhost:8080/",
          "height": 215
        }
      },
      "source": [
        "model %>% predict_classes(x_val[1:10,])"
      ],
      "execution_count": 110,
      "outputs": [
        {
          "output_type": "display_data",
          "data": {
            "text/plain": [
              " [1] 19 16 14 19 14 14 14 14 14 14"
            ],
            "text/latex": "\\begin{enumerate*}\n\\item 19\n\\item 16\n\\item 14\n\\item 19\n\\item 14\n\\item 14\n\\item 14\n\\item 14\n\\item 14\n\\item 14\n\\end{enumerate*}\n",
            "text/markdown": "1. 19\n2. 16\n3. 14\n4. 19\n5. 14\n6. 14\n7. 14\n8. 14\n9. 14\n10. 14\n\n\n",
            "text/html": [
              "<ol class=list-inline>\n",
              "\t<li>19</li>\n",
              "\t<li>16</li>\n",
              "\t<li>14</li>\n",
              "\t<li>19</li>\n",
              "\t<li>14</li>\n",
              "\t<li>14</li>\n",
              "\t<li>14</li>\n",
              "\t<li>14</li>\n",
              "\t<li>14</li>\n",
              "\t<li>14</li>\n",
              "</ol>\n"
            ]
          },
          "metadata": {
            "tags": []
          }
        }
      ]
    },
    {
      "cell_type": "code",
      "metadata": {
        "id": "rgBj3mzBF54s",
        "colab_type": "code",
        "colab": {}
      },
      "source": [
        ""
      ],
      "execution_count": 0,
      "outputs": []
    }
  ]
}
